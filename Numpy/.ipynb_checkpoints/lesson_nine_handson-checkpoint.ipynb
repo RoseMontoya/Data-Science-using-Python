{
 "cells": [
  {
   "cell_type": "code",
   "execution_count": 2,
   "id": "80f30e13",
   "metadata": {},
   "outputs": [],
   "source": [
    "import numpy as np"
   ]
  },
  {
   "cell_type": "markdown",
   "id": "1129127b",
   "metadata": {},
   "source": [
    "Creating an array"
   ]
  },
  {
   "cell_type": "code",
   "execution_count": 3,
   "id": "0a3e023a",
   "metadata": {},
   "outputs": [],
   "source": [
    "myFavorites = np.array([8, 13, 82, 420, 3])"
   ]
  },
  {
   "cell_type": "markdown",
   "id": "2c75b468",
   "metadata": {},
   "source": [
    "Aggregate functions on an array"
   ]
  },
  {
   "cell_type": "code",
   "execution_count": 4,
   "id": "c2dda6e4",
   "metadata": {},
   "outputs": [
    {
     "data": {
      "text/plain": [
       "420"
      ]
     },
     "execution_count": 4,
     "metadata": {},
     "output_type": "execute_result"
    }
   ],
   "source": [
    "myFavorites.max()"
   ]
  },
  {
   "cell_type": "code",
   "execution_count": 5,
   "id": "ea01913f",
   "metadata": {},
   "outputs": [
    {
     "data": {
      "text/plain": [
       "3"
      ]
     },
     "execution_count": 5,
     "metadata": {},
     "output_type": "execute_result"
    }
   ],
   "source": [
    "myFavorites.min()"
   ]
  },
  {
   "cell_type": "code",
   "execution_count": 6,
   "id": "54016984",
   "metadata": {},
   "outputs": [
    {
     "data": {
      "text/plain": [
       "105.2"
      ]
     },
     "execution_count": 6,
     "metadata": {},
     "output_type": "execute_result"
    }
   ],
   "source": [
    "myFavorites.mean()"
   ]
  },
  {
   "cell_type": "code",
   "execution_count": 7,
   "id": "ea25630b",
   "metadata": {},
   "outputs": [
    {
     "data": {
      "text/plain": [
       "160.01924884213147"
      ]
     },
     "execution_count": 7,
     "metadata": {},
     "output_type": "execute_result"
    }
   ],
   "source": [
    "myFavorites.std()"
   ]
  },
  {
   "cell_type": "code",
   "execution_count": 8,
   "id": "a16a597c",
   "metadata": {},
   "outputs": [
    {
     "data": {
      "text/plain": [
       "526"
      ]
     },
     "execution_count": 8,
     "metadata": {},
     "output_type": "execute_result"
    }
   ],
   "source": [
    "myFavorites.sum()"
   ]
  },
  {
   "cell_type": "markdown",
   "id": "6368e581",
   "metadata": {},
   "source": [
    "Creating an array of ones"
   ]
  },
  {
   "cell_type": "code",
   "execution_count": 9,
   "id": "a4c14b3c",
   "metadata": {},
   "outputs": [],
   "source": [
    "OneArrayToRuleThemAll = np.ones(5)"
   ]
  },
  {
   "cell_type": "markdown",
   "id": "8d74f9a0",
   "metadata": {},
   "source": [
    "Adding arrays together"
   ]
  },
  {
   "cell_type": "code",
   "execution_count": 10,
   "id": "67b4ad94",
   "metadata": {},
   "outputs": [
    {
     "data": {
      "text/plain": [
       "array([  9.,  14.,  83., 421.,   4.])"
      ]
     },
     "execution_count": 10,
     "metadata": {},
     "output_type": "execute_result"
    }
   ],
   "source": [
    "myFavorites + OneArrayToRuleThemAll"
   ]
  },
  {
   "cell_type": "markdown",
   "id": "186a9ddf",
   "metadata": {},
   "source": [
    "Multipling an array"
   ]
  },
  {
   "cell_type": "code",
   "execution_count": 11,
   "id": "8ec34676",
   "metadata": {},
   "outputs": [
    {
     "data": {
      "text/plain": [
       "array([ 16,  26, 164, 840,   6])"
      ]
     },
     "execution_count": 11,
     "metadata": {},
     "output_type": "execute_result"
    }
   ],
   "source": [
    "myFavorites * 2"
   ]
  },
  {
   "cell_type": "markdown",
   "id": "a2d34a74",
   "metadata": {},
   "source": [
    "Calling the third element of an array"
   ]
  },
  {
   "cell_type": "code",
   "execution_count": 13,
   "id": "4749b90c",
   "metadata": {},
   "outputs": [
    {
     "data": {
      "text/plain": [
       "82"
      ]
     },
     "execution_count": 13,
     "metadata": {},
     "output_type": "execute_result"
    }
   ],
   "source": [
    "myFavorites[2]"
   ]
  },
  {
   "cell_type": "markdown",
   "id": "26152ac5",
   "metadata": {},
   "source": [
    "Creating a matrix"
   ]
  },
  {
   "cell_type": "code",
   "execution_count": 14,
   "id": "5d31681d",
   "metadata": {},
   "outputs": [],
   "source": [
    "TheMatrixHasYou = np.array([[45, 62], [6, 28]])"
   ]
  },
  {
   "cell_type": "markdown",
   "id": "cfa26b7d",
   "metadata": {},
   "source": [
    "Access the upper left element in a matrix"
   ]
  },
  {
   "cell_type": "code",
   "execution_count": 15,
   "id": "4d24ff15",
   "metadata": {},
   "outputs": [
    {
     "data": {
      "text/plain": [
       "45"
      ]
     },
     "execution_count": 15,
     "metadata": {},
     "output_type": "execute_result"
    }
   ],
   "source": [
    "TheMatrixHasYou[0, 0]"
   ]
  },
  {
   "cell_type": "markdown",
   "id": "c4ea0a96",
   "metadata": {},
   "source": [
    "Largest number in each row of a maxtrix"
   ]
  },
  {
   "cell_type": "code",
   "execution_count": 16,
   "id": "92332e92",
   "metadata": {},
   "outputs": [
    {
     "data": {
      "text/plain": [
       "array([62, 28])"
      ]
     },
     "execution_count": 16,
     "metadata": {},
     "output_type": "execute_result"
    }
   ],
   "source": [
    "TheMatrixHasYou.max(axis = 1)"
   ]
  },
  {
   "cell_type": "markdown",
   "id": "df909f48",
   "metadata": {},
   "source": [
    "Reshaping a matrix"
   ]
  },
  {
   "cell_type": "code",
   "execution_count": 17,
   "id": "ce753f6a",
   "metadata": {},
   "outputs": [
    {
     "data": {
      "text/plain": [
       "array([[45, 62,  6, 28]])"
      ]
     },
     "execution_count": 17,
     "metadata": {},
     "output_type": "execute_result"
    }
   ],
   "source": [
    "TheMatrixHasYou.reshape(1, 4)"
   ]
  },
  {
   "cell_type": "code",
   "execution_count": null,
   "id": "d3e58109",
   "metadata": {},
   "outputs": [],
   "source": []
  }
 ],
 "metadata": {
  "kernelspec": {
   "display_name": "Python 3 (ipykernel)",
   "language": "python",
   "name": "python3"
  },
  "language_info": {
   "codemirror_mode": {
    "name": "ipython",
    "version": 3
   },
   "file_extension": ".py",
   "mimetype": "text/x-python",
   "name": "python",
   "nbconvert_exporter": "python",
   "pygments_lexer": "ipython3",
   "version": "3.9.12"
  }
 },
 "nbformat": 4,
 "nbformat_minor": 5
}
