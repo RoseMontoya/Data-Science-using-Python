{
 "cells": [
  {
   "cell_type": "markdown",
   "id": "89bba365",
   "metadata": {},
   "source": [
    "# Transformations in Python Activity\n",
    "#### This is an activity to pracitice transforming data to be normally distibuted.\n",
    "\n",
    "## Importing dataset and packages"
   ]
  },
  {
   "cell_type": "code",
   "execution_count": 1,
   "id": "4962f707",
   "metadata": {},
   "outputs": [],
   "source": [
    "import pandas as pd\n",
    "import numpy as np\n",
    "import seaborn as sns"
   ]
  },
  {
   "cell_type": "code",
   "execution_count": 2,
   "id": "85b7937b",
   "metadata": {},
   "outputs": [
    {
     "data": {
      "text/html": [
       "<div>\n",
       "<style scoped>\n",
       "    .dataframe tbody tr th:only-of-type {\n",
       "        vertical-align: middle;\n",
       "    }\n",
       "\n",
       "    .dataframe tbody tr th {\n",
       "        vertical-align: top;\n",
       "    }\n",
       "\n",
       "    .dataframe thead th {\n",
       "        text-align: right;\n",
       "    }\n",
       "</style>\n",
       "<table border=\"1\" class=\"dataframe\">\n",
       "  <thead>\n",
       "    <tr style=\"text-align: right;\">\n",
       "      <th></th>\n",
       "      <th>Ship</th>\n",
       "      <th>Line</th>\n",
       "      <th>YearBlt</th>\n",
       "      <th>Tonnage</th>\n",
       "      <th>passngrs</th>\n",
       "      <th>Length</th>\n",
       "      <th>Cabins</th>\n",
       "      <th>Crew</th>\n",
       "      <th>PassSpcR</th>\n",
       "      <th>outcab</th>\n",
       "    </tr>\n",
       "  </thead>\n",
       "  <tbody>\n",
       "    <tr>\n",
       "      <th>0</th>\n",
       "      <td>Journey</td>\n",
       "      <td>Azamara</td>\n",
       "      <td>2007</td>\n",
       "      <td>30277</td>\n",
       "      <td>694</td>\n",
       "      <td>594</td>\n",
       "      <td>355</td>\n",
       "      <td>355</td>\n",
       "      <td>42.64</td>\n",
       "      <td>329</td>\n",
       "    </tr>\n",
       "    <tr>\n",
       "      <th>1</th>\n",
       "      <td>Quest</td>\n",
       "      <td>Azamara</td>\n",
       "      <td>2007</td>\n",
       "      <td>30277</td>\n",
       "      <td>694</td>\n",
       "      <td>594</td>\n",
       "      <td>355</td>\n",
       "      <td>355</td>\n",
       "      <td>42.64</td>\n",
       "      <td>329</td>\n",
       "    </tr>\n",
       "    <tr>\n",
       "      <th>2</th>\n",
       "      <td>Celebration</td>\n",
       "      <td>Carnival</td>\n",
       "      <td>1987</td>\n",
       "      <td>47262</td>\n",
       "      <td>1486</td>\n",
       "      <td>722</td>\n",
       "      <td>743</td>\n",
       "      <td>670</td>\n",
       "      <td>31.80</td>\n",
       "      <td>453</td>\n",
       "    </tr>\n",
       "    <tr>\n",
       "      <th>3</th>\n",
       "      <td>Conquest</td>\n",
       "      <td>Carnival</td>\n",
       "      <td>2002</td>\n",
       "      <td>110000</td>\n",
       "      <td>2974</td>\n",
       "      <td>953</td>\n",
       "      <td>1488</td>\n",
       "      <td>1910</td>\n",
       "      <td>36.99</td>\n",
       "      <td>892</td>\n",
       "    </tr>\n",
       "    <tr>\n",
       "      <th>4</th>\n",
       "      <td>Destiny</td>\n",
       "      <td>Carnival</td>\n",
       "      <td>1996</td>\n",
       "      <td>101353</td>\n",
       "      <td>2642</td>\n",
       "      <td>892</td>\n",
       "      <td>1321</td>\n",
       "      <td>1000</td>\n",
       "      <td>38.36</td>\n",
       "      <td>740</td>\n",
       "    </tr>\n",
       "  </tbody>\n",
       "</table>\n",
       "</div>"
      ],
      "text/plain": [
       "          Ship      Line  YearBlt  Tonnage  passngrs  Length  Cabins  Crew  \\\n",
       "0      Journey   Azamara     2007    30277       694     594     355   355   \n",
       "1        Quest   Azamara     2007    30277       694     594     355   355   \n",
       "2  Celebration  Carnival     1987    47262      1486     722     743   670   \n",
       "3     Conquest  Carnival     2002   110000      2974     953    1488  1910   \n",
       "4      Destiny  Carnival     1996   101353      2642     892    1321  1000   \n",
       "\n",
       "   PassSpcR  outcab  \n",
       "0     42.64     329  \n",
       "1     42.64     329  \n",
       "2     31.80     453  \n",
       "3     36.99     892  \n",
       "4     38.36     740  "
      ]
     },
     "execution_count": 2,
     "metadata": {},
     "output_type": "execute_result"
    }
   ],
   "source": [
    "cruiseShip = pd.read_excel('cruise_ship.xlsx')\n",
    "cruiseShip.head()"
   ]
  },
  {
   "cell_type": "markdown",
   "id": "70e556cb",
   "metadata": {},
   "source": [
    "## Year Blt Variable\n",
    "### Look at histogram"
   ]
  },
  {
   "cell_type": "code",
   "execution_count": 3,
   "id": "8fb61369",
   "metadata": {},
   "outputs": [
    {
     "data": {
      "text/plain": [
       "<AxesSubplot:>"
      ]
     },
     "execution_count": 3,
     "metadata": {},
     "output_type": "execute_result"
    },
    {
     "data": {
      "image/png": "[encoded data removed]",
      "text/plain": [
       "<Figure size 432x288 with 1 Axes>"
      ]
     },
     "metadata": {
      "needs_background": "light"
     },
     "output_type": "display_data"
    }
   ],
   "source": [
    "cruiseShip.YearBlt.hist()"
   ]
  },
  {
   "cell_type": "markdown",
   "id": "d43ea1cc",
   "metadata": {},
   "source": [
    "#### The variable is negatively skewed. \n",
    "### Squaring Variable"
   ]
  },
  {
   "cell_type": "code",
   "execution_count": 4,
   "id": "27488009",
   "metadata": {},
   "outputs": [
    {
     "data": {
      "text/html": [
       "<div>\n",
       "<style scoped>\n",
       "    .dataframe tbody tr th:only-of-type {\n",
       "        vertical-align: middle;\n",
       "    }\n",
       "\n",
       "    .dataframe tbody tr th {\n",
       "        vertical-align: top;\n",
       "    }\n",
       "\n",
       "    .dataframe thead th {\n",
       "        text-align: right;\n",
       "    }\n",
       "</style>\n",
       "<table border=\"1\" class=\"dataframe\">\n",
       "  <thead>\n",
       "    <tr style=\"text-align: right;\">\n",
       "      <th></th>\n",
       "      <th>Ship</th>\n",
       "      <th>Line</th>\n",
       "      <th>YearBlt</th>\n",
       "      <th>Tonnage</th>\n",
       "      <th>passngrs</th>\n",
       "      <th>Length</th>\n",
       "      <th>Cabins</th>\n",
       "      <th>Crew</th>\n",
       "      <th>PassSpcR</th>\n",
       "      <th>outcab</th>\n",
       "      <th>YearBltSQ</th>\n",
       "    </tr>\n",
       "  </thead>\n",
       "  <tbody>\n",
       "    <tr>\n",
       "      <th>0</th>\n",
       "      <td>Journey</td>\n",
       "      <td>Azamara</td>\n",
       "      <td>2007</td>\n",
       "      <td>30277</td>\n",
       "      <td>694</td>\n",
       "      <td>594</td>\n",
       "      <td>355</td>\n",
       "      <td>355</td>\n",
       "      <td>42.64</td>\n",
       "      <td>329</td>\n",
       "      <td>4028049</td>\n",
       "    </tr>\n",
       "    <tr>\n",
       "      <th>1</th>\n",
       "      <td>Quest</td>\n",
       "      <td>Azamara</td>\n",
       "      <td>2007</td>\n",
       "      <td>30277</td>\n",
       "      <td>694</td>\n",
       "      <td>594</td>\n",
       "      <td>355</td>\n",
       "      <td>355</td>\n",
       "      <td>42.64</td>\n",
       "      <td>329</td>\n",
       "      <td>4028049</td>\n",
       "    </tr>\n",
       "    <tr>\n",
       "      <th>2</th>\n",
       "      <td>Celebration</td>\n",
       "      <td>Carnival</td>\n",
       "      <td>1987</td>\n",
       "      <td>47262</td>\n",
       "      <td>1486</td>\n",
       "      <td>722</td>\n",
       "      <td>743</td>\n",
       "      <td>670</td>\n",
       "      <td>31.80</td>\n",
       "      <td>453</td>\n",
       "      <td>3948169</td>\n",
       "    </tr>\n",
       "    <tr>\n",
       "      <th>3</th>\n",
       "      <td>Conquest</td>\n",
       "      <td>Carnival</td>\n",
       "      <td>2002</td>\n",
       "      <td>110000</td>\n",
       "      <td>2974</td>\n",
       "      <td>953</td>\n",
       "      <td>1488</td>\n",
       "      <td>1910</td>\n",
       "      <td>36.99</td>\n",
       "      <td>892</td>\n",
       "      <td>4008004</td>\n",
       "    </tr>\n",
       "    <tr>\n",
       "      <th>4</th>\n",
       "      <td>Destiny</td>\n",
       "      <td>Carnival</td>\n",
       "      <td>1996</td>\n",
       "      <td>101353</td>\n",
       "      <td>2642</td>\n",
       "      <td>892</td>\n",
       "      <td>1321</td>\n",
       "      <td>1000</td>\n",
       "      <td>38.36</td>\n",
       "      <td>740</td>\n",
       "      <td>3984016</td>\n",
       "    </tr>\n",
       "  </tbody>\n",
       "</table>\n",
       "</div>"
      ],
      "text/plain": [
       "          Ship      Line  YearBlt  Tonnage  passngrs  Length  Cabins  Crew  \\\n",
       "0      Journey   Azamara     2007    30277       694     594     355   355   \n",
       "1        Quest   Azamara     2007    30277       694     594     355   355   \n",
       "2  Celebration  Carnival     1987    47262      1486     722     743   670   \n",
       "3     Conquest  Carnival     2002   110000      2974     953    1488  1910   \n",
       "4      Destiny  Carnival     1996   101353      2642     892    1321  1000   \n",
       "\n",
       "   PassSpcR  outcab  YearBltSQ  \n",
       "0     42.64     329    4028049  \n",
       "1     42.64     329    4028049  \n",
       "2     31.80     453    3948169  \n",
       "3     36.99     892    4008004  \n",
       "4     38.36     740    3984016  "
      ]
     },
     "execution_count": 4,
     "metadata": {},
     "output_type": "execute_result"
    }
   ],
   "source": [
    "cruiseShip['YearBltSQ'] = cruiseShip['YearBlt']**2\n",
    "cruiseShip.head()"
   ]
  },
  {
   "cell_type": "code",
   "execution_count": 5,
   "id": "bb01089b",
   "metadata": {},
   "outputs": [
    {
     "data": {
      "text/plain": [
       "<AxesSubplot:>"
      ]
     },
     "execution_count": 5,
     "metadata": {},
     "output_type": "execute_result"
    },
    {
     "data": {
      "image/png": "[encoded data removed]",
      "text/plain": [
       "<Figure size 432x288 with 1 Axes>"
      ]
     },
     "metadata": {
      "needs_background": "light"
     },
     "output_type": "display_data"
    }
   ],
   "source": [
    "cruiseShip.YearBltSQ.hist()"
   ]
  },
  {
   "cell_type": "markdown",
   "id": "7ee5e0bb",
   "metadata": {},
   "source": [
    "#### Still looks a bit negatively skewed.\n",
    "### Cubing Variable"
   ]
  },
  {
   "cell_type": "code",
   "execution_count": 6,
   "id": "ccc7abdf",
   "metadata": {},
   "outputs": [
    {
     "data": {
      "text/html": [
       "<div>\n",
       "<style scoped>\n",
       "    .dataframe tbody tr th:only-of-type {\n",
       "        vertical-align: middle;\n",
       "    }\n",
       "\n",
       "    .dataframe tbody tr th {\n",
       "        vertical-align: top;\n",
       "    }\n",
       "\n",
       "    .dataframe thead th {\n",
       "        text-align: right;\n",
       "    }\n",
       "</style>\n",
       "<table border=\"1\" class=\"dataframe\">\n",
       "  <thead>\n",
       "    <tr style=\"text-align: right;\">\n",
       "      <th></th>\n",
       "      <th>Ship</th>\n",
       "      <th>Line</th>\n",
       "      <th>YearBlt</th>\n",
       "      <th>Tonnage</th>\n",
       "      <th>passngrs</th>\n",
       "      <th>Length</th>\n",
       "      <th>Cabins</th>\n",
       "      <th>Crew</th>\n",
       "      <th>PassSpcR</th>\n",
       "      <th>outcab</th>\n",
       "      <th>YearBltSQ</th>\n",
       "      <th>YearBltCUBE</th>\n",
       "    </tr>\n",
       "  </thead>\n",
       "  <tbody>\n",
       "    <tr>\n",
       "      <th>0</th>\n",
       "      <td>Journey</td>\n",
       "      <td>Azamara</td>\n",
       "      <td>2007</td>\n",
       "      <td>30277</td>\n",
       "      <td>694</td>\n",
       "      <td>594</td>\n",
       "      <td>355</td>\n",
       "      <td>355</td>\n",
       "      <td>42.64</td>\n",
       "      <td>329</td>\n",
       "      <td>4028049</td>\n",
       "      <td>8084294343</td>\n",
       "    </tr>\n",
       "    <tr>\n",
       "      <th>1</th>\n",
       "      <td>Quest</td>\n",
       "      <td>Azamara</td>\n",
       "      <td>2007</td>\n",
       "      <td>30277</td>\n",
       "      <td>694</td>\n",
       "      <td>594</td>\n",
       "      <td>355</td>\n",
       "      <td>355</td>\n",
       "      <td>42.64</td>\n",
       "      <td>329</td>\n",
       "      <td>4028049</td>\n",
       "      <td>8084294343</td>\n",
       "    </tr>\n",
       "    <tr>\n",
       "      <th>2</th>\n",
       "      <td>Celebration</td>\n",
       "      <td>Carnival</td>\n",
       "      <td>1987</td>\n",
       "      <td>47262</td>\n",
       "      <td>1486</td>\n",
       "      <td>722</td>\n",
       "      <td>743</td>\n",
       "      <td>670</td>\n",
       "      <td>31.80</td>\n",
       "      <td>453</td>\n",
       "      <td>3948169</td>\n",
       "      <td>7845011803</td>\n",
       "    </tr>\n",
       "    <tr>\n",
       "      <th>3</th>\n",
       "      <td>Conquest</td>\n",
       "      <td>Carnival</td>\n",
       "      <td>2002</td>\n",
       "      <td>110000</td>\n",
       "      <td>2974</td>\n",
       "      <td>953</td>\n",
       "      <td>1488</td>\n",
       "      <td>1910</td>\n",
       "      <td>36.99</td>\n",
       "      <td>892</td>\n",
       "      <td>4008004</td>\n",
       "      <td>8024024008</td>\n",
       "    </tr>\n",
       "    <tr>\n",
       "      <th>4</th>\n",
       "      <td>Destiny</td>\n",
       "      <td>Carnival</td>\n",
       "      <td>1996</td>\n",
       "      <td>101353</td>\n",
       "      <td>2642</td>\n",
       "      <td>892</td>\n",
       "      <td>1321</td>\n",
       "      <td>1000</td>\n",
       "      <td>38.36</td>\n",
       "      <td>740</td>\n",
       "      <td>3984016</td>\n",
       "      <td>7952095936</td>\n",
       "    </tr>\n",
       "  </tbody>\n",
       "</table>\n",
       "</div>"
      ],
      "text/plain": [
       "          Ship      Line  YearBlt  Tonnage  passngrs  Length  Cabins  Crew  \\\n",
       "0      Journey   Azamara     2007    30277       694     594     355   355   \n",
       "1        Quest   Azamara     2007    30277       694     594     355   355   \n",
       "2  Celebration  Carnival     1987    47262      1486     722     743   670   \n",
       "3     Conquest  Carnival     2002   110000      2974     953    1488  1910   \n",
       "4      Destiny  Carnival     1996   101353      2642     892    1321  1000   \n",
       "\n",
       "   PassSpcR  outcab  YearBltSQ  YearBltCUBE  \n",
       "0     42.64     329    4028049   8084294343  \n",
       "1     42.64     329    4028049   8084294343  \n",
       "2     31.80     453    3948169   7845011803  \n",
       "3     36.99     892    4008004   8024024008  \n",
       "4     38.36     740    3984016   7952095936  "
      ]
     },
     "execution_count": 6,
     "metadata": {},
     "output_type": "execute_result"
    }
   ],
   "source": [
    "cruiseShip['YearBltCUBE'] = cruiseShip['YearBlt']**3\n",
    "cruiseShip.head()"
   ]
  },
  {
   "cell_type": "code",
   "execution_count": 7,
   "id": "91f51ca4",
   "metadata": {},
   "outputs": [
    {
     "data": {
      "text/plain": [
       "<AxesSubplot:>"
      ]
     },
     "execution_count": 7,
     "metadata": {},
     "output_type": "execute_result"
    },
    {
     "data": {
      "image/png": "[encoded data removed]",
      "text/plain": [
       "<Figure size 432x288 with 1 Axes>"
      ]
     },
     "metadata": {
      "needs_background": "light"
     },
     "output_type": "display_data"
    }
   ],
   "source": [
    "cruiseShip.YearBltCUBE.hist()"
   ]
  },
  {
   "cell_type": "markdown",
   "id": "f3a3c308",
   "metadata": {},
   "source": [
    "#### Still skewed, but the best we're gonna get. \n",
    "## Tonnage Variable\n",
    "### Look at Histogram"
   ]
  },
  {
   "cell_type": "code",
   "execution_count": 8,
   "id": "7d125841",
   "metadata": {},
   "outputs": [
    {
     "data": {
      "text/plain": [
       "<AxesSubplot:>"
      ]
     },
     "execution_count": 8,
     "metadata": {},
     "output_type": "execute_result"
    },
    {
     "data": {
      "image/png": "[encoded data removed]",
      "text/plain": [
       "<Figure size 432x288 with 1 Axes>"
      ]
     },
     "metadata": {
      "needs_background": "light"
     },
     "output_type": "display_data"
    }
   ],
   "source": [
    "cruiseShip.Tonnage.hist()"
   ]
  },
  {
   "cell_type": "markdown",
   "id": "57d863e8",
   "metadata": {},
   "source": [
    "#### A bit positively skewed.\n",
    "### Taking the Square Root"
   ]
  },
  {
   "cell_type": "code",
   "execution_count": 9,
   "id": "072aa75e",
   "metadata": {},
   "outputs": [
    {
     "data": {
      "text/html": [
       "<div>\n",
       "<style scoped>\n",
       "    .dataframe tbody tr th:only-of-type {\n",
       "        vertical-align: middle;\n",
       "    }\n",
       "\n",
       "    .dataframe tbody tr th {\n",
       "        vertical-align: top;\n",
       "    }\n",
       "\n",
       "    .dataframe thead th {\n",
       "        text-align: right;\n",
       "    }\n",
       "</style>\n",
       "<table border=\"1\" class=\"dataframe\">\n",
       "  <thead>\n",
       "    <tr style=\"text-align: right;\">\n",
       "      <th></th>\n",
       "      <th>Ship</th>\n",
       "      <th>Line</th>\n",
       "      <th>YearBlt</th>\n",
       "      <th>Tonnage</th>\n",
       "      <th>passngrs</th>\n",
       "      <th>Length</th>\n",
       "      <th>Cabins</th>\n",
       "      <th>Crew</th>\n",
       "      <th>PassSpcR</th>\n",
       "      <th>outcab</th>\n",
       "      <th>YearBltSQ</th>\n",
       "      <th>YearBltCUBE</th>\n",
       "      <th>TonnageSQRT</th>\n",
       "    </tr>\n",
       "  </thead>\n",
       "  <tbody>\n",
       "    <tr>\n",
       "      <th>0</th>\n",
       "      <td>Journey</td>\n",
       "      <td>Azamara</td>\n",
       "      <td>2007</td>\n",
       "      <td>30277</td>\n",
       "      <td>694</td>\n",
       "      <td>594</td>\n",
       "      <td>355</td>\n",
       "      <td>355</td>\n",
       "      <td>42.64</td>\n",
       "      <td>329</td>\n",
       "      <td>4028049</td>\n",
       "      <td>8084294343</td>\n",
       "      <td>174.002874</td>\n",
       "    </tr>\n",
       "    <tr>\n",
       "      <th>1</th>\n",
       "      <td>Quest</td>\n",
       "      <td>Azamara</td>\n",
       "      <td>2007</td>\n",
       "      <td>30277</td>\n",
       "      <td>694</td>\n",
       "      <td>594</td>\n",
       "      <td>355</td>\n",
       "      <td>355</td>\n",
       "      <td>42.64</td>\n",
       "      <td>329</td>\n",
       "      <td>4028049</td>\n",
       "      <td>8084294343</td>\n",
       "      <td>174.002874</td>\n",
       "    </tr>\n",
       "    <tr>\n",
       "      <th>2</th>\n",
       "      <td>Celebration</td>\n",
       "      <td>Carnival</td>\n",
       "      <td>1987</td>\n",
       "      <td>47262</td>\n",
       "      <td>1486</td>\n",
       "      <td>722</td>\n",
       "      <td>743</td>\n",
       "      <td>670</td>\n",
       "      <td>31.80</td>\n",
       "      <td>453</td>\n",
       "      <td>3948169</td>\n",
       "      <td>7845011803</td>\n",
       "      <td>217.398252</td>\n",
       "    </tr>\n",
       "    <tr>\n",
       "      <th>3</th>\n",
       "      <td>Conquest</td>\n",
       "      <td>Carnival</td>\n",
       "      <td>2002</td>\n",
       "      <td>110000</td>\n",
       "      <td>2974</td>\n",
       "      <td>953</td>\n",
       "      <td>1488</td>\n",
       "      <td>1910</td>\n",
       "      <td>36.99</td>\n",
       "      <td>892</td>\n",
       "      <td>4008004</td>\n",
       "      <td>8024024008</td>\n",
       "      <td>331.662479</td>\n",
       "    </tr>\n",
       "    <tr>\n",
       "      <th>4</th>\n",
       "      <td>Destiny</td>\n",
       "      <td>Carnival</td>\n",
       "      <td>1996</td>\n",
       "      <td>101353</td>\n",
       "      <td>2642</td>\n",
       "      <td>892</td>\n",
       "      <td>1321</td>\n",
       "      <td>1000</td>\n",
       "      <td>38.36</td>\n",
       "      <td>740</td>\n",
       "      <td>3984016</td>\n",
       "      <td>7952095936</td>\n",
       "      <td>318.359859</td>\n",
       "    </tr>\n",
       "  </tbody>\n",
       "</table>\n",
       "</div>"
      ],
      "text/plain": [
       "          Ship      Line  YearBlt  Tonnage  passngrs  Length  Cabins  Crew  \\\n",
       "0      Journey   Azamara     2007    30277       694     594     355   355   \n",
       "1        Quest   Azamara     2007    30277       694     594     355   355   \n",
       "2  Celebration  Carnival     1987    47262      1486     722     743   670   \n",
       "3     Conquest  Carnival     2002   110000      2974     953    1488  1910   \n",
       "4      Destiny  Carnival     1996   101353      2642     892    1321  1000   \n",
       "\n",
       "   PassSpcR  outcab  YearBltSQ  YearBltCUBE  TonnageSQRT  \n",
       "0     42.64     329    4028049   8084294343   174.002874  \n",
       "1     42.64     329    4028049   8084294343   174.002874  \n",
       "2     31.80     453    3948169   7845011803   217.398252  \n",
       "3     36.99     892    4008004   8024024008   331.662479  \n",
       "4     38.36     740    3984016   7952095936   318.359859  "
      ]
     },
     "execution_count": 9,
     "metadata": {},
     "output_type": "execute_result"
    }
   ],
   "source": [
    "cruiseShip['TonnageSQRT'] = np.sqrt(cruiseShip['Tonnage'])\n",
    "cruiseShip.head()"
   ]
  },
  {
   "cell_type": "code",
   "execution_count": 10,
   "id": "0b54b75a",
   "metadata": {},
   "outputs": [
    {
     "data": {
      "text/plain": [
       "<AxesSubplot:>"
      ]
     },
     "execution_count": 10,
     "metadata": {},
     "output_type": "execute_result"
    },
    {
     "data": {
      "image/png": "[encoded data removed]",
      "text/plain": [
       "<Figure size 432x288 with 1 Axes>"
      ]
     },
     "metadata": {
      "needs_background": "light"
     },
     "output_type": "display_data"
    }
   ],
   "source": [
    "cruiseShip.TonnageSQRT.hist()"
   ]
  },
  {
   "cell_type": "markdown",
   "id": "476eb4e3",
   "metadata": {},
   "source": [
    "#### Looks pretty good. Just gonna take a peak at the log."
   ]
  },
  {
   "cell_type": "code",
   "execution_count": 11,
   "id": "948d4030",
   "metadata": {},
   "outputs": [
    {
     "data": {
      "text/html": [
       "<div>\n",
       "<style scoped>\n",
       "    .dataframe tbody tr th:only-of-type {\n",
       "        vertical-align: middle;\n",
       "    }\n",
       "\n",
       "    .dataframe tbody tr th {\n",
       "        vertical-align: top;\n",
       "    }\n",
       "\n",
       "    .dataframe thead th {\n",
       "        text-align: right;\n",
       "    }\n",
       "</style>\n",
       "<table border=\"1\" class=\"dataframe\">\n",
       "  <thead>\n",
       "    <tr style=\"text-align: right;\">\n",
       "      <th></th>\n",
       "      <th>Ship</th>\n",
       "      <th>Line</th>\n",
       "      <th>YearBlt</th>\n",
       "      <th>Tonnage</th>\n",
       "      <th>passngrs</th>\n",
       "      <th>Length</th>\n",
       "      <th>Cabins</th>\n",
       "      <th>Crew</th>\n",
       "      <th>PassSpcR</th>\n",
       "      <th>outcab</th>\n",
       "      <th>YearBltSQ</th>\n",
       "      <th>YearBltCUBE</th>\n",
       "      <th>TonnageSQRT</th>\n",
       "      <th>TonnageLOG</th>\n",
       "    </tr>\n",
       "  </thead>\n",
       "  <tbody>\n",
       "    <tr>\n",
       "      <th>0</th>\n",
       "      <td>Journey</td>\n",
       "      <td>Azamara</td>\n",
       "      <td>2007</td>\n",
       "      <td>30277</td>\n",
       "      <td>694</td>\n",
       "      <td>594</td>\n",
       "      <td>355</td>\n",
       "      <td>355</td>\n",
       "      <td>42.64</td>\n",
       "      <td>329</td>\n",
       "      <td>4028049</td>\n",
       "      <td>8084294343</td>\n",
       "      <td>174.002874</td>\n",
       "      <td>10.318144</td>\n",
       "    </tr>\n",
       "    <tr>\n",
       "      <th>1</th>\n",
       "      <td>Quest</td>\n",
       "      <td>Azamara</td>\n",
       "      <td>2007</td>\n",
       "      <td>30277</td>\n",
       "      <td>694</td>\n",
       "      <td>594</td>\n",
       "      <td>355</td>\n",
       "      <td>355</td>\n",
       "      <td>42.64</td>\n",
       "      <td>329</td>\n",
       "      <td>4028049</td>\n",
       "      <td>8084294343</td>\n",
       "      <td>174.002874</td>\n",
       "      <td>10.318144</td>\n",
       "    </tr>\n",
       "    <tr>\n",
       "      <th>2</th>\n",
       "      <td>Celebration</td>\n",
       "      <td>Carnival</td>\n",
       "      <td>1987</td>\n",
       "      <td>47262</td>\n",
       "      <td>1486</td>\n",
       "      <td>722</td>\n",
       "      <td>743</td>\n",
       "      <td>670</td>\n",
       "      <td>31.80</td>\n",
       "      <td>453</td>\n",
       "      <td>3948169</td>\n",
       "      <td>7845011803</td>\n",
       "      <td>217.398252</td>\n",
       "      <td>10.763462</td>\n",
       "    </tr>\n",
       "    <tr>\n",
       "      <th>3</th>\n",
       "      <td>Conquest</td>\n",
       "      <td>Carnival</td>\n",
       "      <td>2002</td>\n",
       "      <td>110000</td>\n",
       "      <td>2974</td>\n",
       "      <td>953</td>\n",
       "      <td>1488</td>\n",
       "      <td>1910</td>\n",
       "      <td>36.99</td>\n",
       "      <td>892</td>\n",
       "      <td>4008004</td>\n",
       "      <td>8024024008</td>\n",
       "      <td>331.662479</td>\n",
       "      <td>11.608236</td>\n",
       "    </tr>\n",
       "    <tr>\n",
       "      <th>4</th>\n",
       "      <td>Destiny</td>\n",
       "      <td>Carnival</td>\n",
       "      <td>1996</td>\n",
       "      <td>101353</td>\n",
       "      <td>2642</td>\n",
       "      <td>892</td>\n",
       "      <td>1321</td>\n",
       "      <td>1000</td>\n",
       "      <td>38.36</td>\n",
       "      <td>740</td>\n",
       "      <td>3984016</td>\n",
       "      <td>7952095936</td>\n",
       "      <td>318.359859</td>\n",
       "      <td>11.526365</td>\n",
       "    </tr>\n",
       "  </tbody>\n",
       "</table>\n",
       "</div>"
      ],
      "text/plain": [
       "          Ship      Line  YearBlt  Tonnage  passngrs  Length  Cabins  Crew  \\\n",
       "0      Journey   Azamara     2007    30277       694     594     355   355   \n",
       "1        Quest   Azamara     2007    30277       694     594     355   355   \n",
       "2  Celebration  Carnival     1987    47262      1486     722     743   670   \n",
       "3     Conquest  Carnival     2002   110000      2974     953    1488  1910   \n",
       "4      Destiny  Carnival     1996   101353      2642     892    1321  1000   \n",
       "\n",
       "   PassSpcR  outcab  YearBltSQ  YearBltCUBE  TonnageSQRT  TonnageLOG  \n",
       "0     42.64     329    4028049   8084294343   174.002874   10.318144  \n",
       "1     42.64     329    4028049   8084294343   174.002874   10.318144  \n",
       "2     31.80     453    3948169   7845011803   217.398252   10.763462  \n",
       "3     36.99     892    4008004   8024024008   331.662479   11.608236  \n",
       "4     38.36     740    3984016   7952095936   318.359859   11.526365  "
      ]
     },
     "execution_count": 11,
     "metadata": {},
     "output_type": "execute_result"
    }
   ],
   "source": [
    "cruiseShip['TonnageLOG'] = np.log(cruiseShip['Tonnage'])\n",
    "cruiseShip.head()"
   ]
  },
  {
   "cell_type": "code",
   "execution_count": 12,
   "id": "4933144f",
   "metadata": {},
   "outputs": [
    {
     "data": {
      "text/plain": [
       "<AxesSubplot:>"
      ]
     },
     "execution_count": 12,
     "metadata": {},
     "output_type": "execute_result"
    },
    {
     "data": {
      "image/png": "[encoded data removed]",
      "text/plain": [
       "<Figure size 432x288 with 1 Axes>"
      ]
     },
     "metadata": {
      "needs_background": "light"
     },
     "output_type": "display_data"
    }
   ],
   "source": [
    "cruiseShip.TonnageLOG.hist()"
   ]
  },
  {
   "cell_type": "markdown",
   "id": "e66c2cc3",
   "metadata": {},
   "source": [
    "#### Log is too much. SQRT is much better."
   ]
  },
  {
   "cell_type": "markdown",
   "id": "443b38f6",
   "metadata": {},
   "source": [
    "## passngrs Variable\n",
    "### Looking at the histogram"
   ]
  },
  {
   "cell_type": "code",
   "execution_count": 13,
   "id": "29dd8548",
   "metadata": {},
   "outputs": [
    {
     "data": {
      "text/plain": [
       "<AxesSubplot:>"
      ]
     },
     "execution_count": 13,
     "metadata": {},
     "output_type": "execute_result"
    },
    {
     "data": {
      "image/png": "[encoded data removed]",
      "text/plain": [
       "<Figure size 432x288 with 1 Axes>"
      ]
     },
     "metadata": {
      "needs_background": "light"
     },
     "output_type": "display_data"
    }
   ],
   "source": [
    "cruiseShip.passngrs.hist()"
   ]
  },
  {
   "cell_type": "markdown",
   "id": "8860e10a",
   "metadata": {},
   "source": [
    "#### A little bit positively skewed\n",
    "### Finding the Square Root"
   ]
  },
  {
   "cell_type": "code",
   "execution_count": 14,
   "id": "dcc84df1",
   "metadata": {},
   "outputs": [
    {
     "data": {
      "text/html": [
       "<div>\n",
       "<style scoped>\n",
       "    .dataframe tbody tr th:only-of-type {\n",
       "        vertical-align: middle;\n",
       "    }\n",
       "\n",
       "    .dataframe tbody tr th {\n",
       "        vertical-align: top;\n",
       "    }\n",
       "\n",
       "    .dataframe thead th {\n",
       "        text-align: right;\n",
       "    }\n",
       "</style>\n",
       "<table border=\"1\" class=\"dataframe\">\n",
       "  <thead>\n",
       "    <tr style=\"text-align: right;\">\n",
       "      <th></th>\n",
       "      <th>Ship</th>\n",
       "      <th>Line</th>\n",
       "      <th>YearBlt</th>\n",
       "      <th>Tonnage</th>\n",
       "      <th>passngrs</th>\n",
       "      <th>Length</th>\n",
       "      <th>Cabins</th>\n",
       "      <th>Crew</th>\n",
       "      <th>PassSpcR</th>\n",
       "      <th>outcab</th>\n",
       "      <th>YearBltSQ</th>\n",
       "      <th>YearBltCUBE</th>\n",
       "      <th>TonnageSQRT</th>\n",
       "      <th>TonnageLOG</th>\n",
       "      <th>passngrsSQRT</th>\n",
       "    </tr>\n",
       "  </thead>\n",
       "  <tbody>\n",
       "    <tr>\n",
       "      <th>0</th>\n",
       "      <td>Journey</td>\n",
       "      <td>Azamara</td>\n",
       "      <td>2007</td>\n",
       "      <td>30277</td>\n",
       "      <td>694</td>\n",
       "      <td>594</td>\n",
       "      <td>355</td>\n",
       "      <td>355</td>\n",
       "      <td>42.64</td>\n",
       "      <td>329</td>\n",
       "      <td>4028049</td>\n",
       "      <td>8084294343</td>\n",
       "      <td>174.002874</td>\n",
       "      <td>10.318144</td>\n",
       "      <td>26.343880</td>\n",
       "    </tr>\n",
       "    <tr>\n",
       "      <th>1</th>\n",
       "      <td>Quest</td>\n",
       "      <td>Azamara</td>\n",
       "      <td>2007</td>\n",
       "      <td>30277</td>\n",
       "      <td>694</td>\n",
       "      <td>594</td>\n",
       "      <td>355</td>\n",
       "      <td>355</td>\n",
       "      <td>42.64</td>\n",
       "      <td>329</td>\n",
       "      <td>4028049</td>\n",
       "      <td>8084294343</td>\n",
       "      <td>174.002874</td>\n",
       "      <td>10.318144</td>\n",
       "      <td>26.343880</td>\n",
       "    </tr>\n",
       "    <tr>\n",
       "      <th>2</th>\n",
       "      <td>Celebration</td>\n",
       "      <td>Carnival</td>\n",
       "      <td>1987</td>\n",
       "      <td>47262</td>\n",
       "      <td>1486</td>\n",
       "      <td>722</td>\n",
       "      <td>743</td>\n",
       "      <td>670</td>\n",
       "      <td>31.80</td>\n",
       "      <td>453</td>\n",
       "      <td>3948169</td>\n",
       "      <td>7845011803</td>\n",
       "      <td>217.398252</td>\n",
       "      <td>10.763462</td>\n",
       "      <td>38.548671</td>\n",
       "    </tr>\n",
       "    <tr>\n",
       "      <th>3</th>\n",
       "      <td>Conquest</td>\n",
       "      <td>Carnival</td>\n",
       "      <td>2002</td>\n",
       "      <td>110000</td>\n",
       "      <td>2974</td>\n",
       "      <td>953</td>\n",
       "      <td>1488</td>\n",
       "      <td>1910</td>\n",
       "      <td>36.99</td>\n",
       "      <td>892</td>\n",
       "      <td>4008004</td>\n",
       "      <td>8024024008</td>\n",
       "      <td>331.662479</td>\n",
       "      <td>11.608236</td>\n",
       "      <td>54.534393</td>\n",
       "    </tr>\n",
       "    <tr>\n",
       "      <th>4</th>\n",
       "      <td>Destiny</td>\n",
       "      <td>Carnival</td>\n",
       "      <td>1996</td>\n",
       "      <td>101353</td>\n",
       "      <td>2642</td>\n",
       "      <td>892</td>\n",
       "      <td>1321</td>\n",
       "      <td>1000</td>\n",
       "      <td>38.36</td>\n",
       "      <td>740</td>\n",
       "      <td>3984016</td>\n",
       "      <td>7952095936</td>\n",
       "      <td>318.359859</td>\n",
       "      <td>11.526365</td>\n",
       "      <td>51.400389</td>\n",
       "    </tr>\n",
       "  </tbody>\n",
       "</table>\n",
       "</div>"
      ],
      "text/plain": [
       "          Ship      Line  YearBlt  Tonnage  passngrs  Length  Cabins  Crew  \\\n",
       "0      Journey   Azamara     2007    30277       694     594     355   355   \n",
       "1        Quest   Azamara     2007    30277       694     594     355   355   \n",
       "2  Celebration  Carnival     1987    47262      1486     722     743   670   \n",
       "3     Conquest  Carnival     2002   110000      2974     953    1488  1910   \n",
       "4      Destiny  Carnival     1996   101353      2642     892    1321  1000   \n",
       "\n",
       "   PassSpcR  outcab  YearBltSQ  YearBltCUBE  TonnageSQRT  TonnageLOG  \\\n",
       "0     42.64     329    4028049   8084294343   174.002874   10.318144   \n",
       "1     42.64     329    4028049   8084294343   174.002874   10.318144   \n",
       "2     31.80     453    3948169   7845011803   217.398252   10.763462   \n",
       "3     36.99     892    4008004   8024024008   331.662479   11.608236   \n",
       "4     38.36     740    3984016   7952095936   318.359859   11.526365   \n",
       "\n",
       "   passngrsSQRT  \n",
       "0     26.343880  \n",
       "1     26.343880  \n",
       "2     38.548671  \n",
       "3     54.534393  \n",
       "4     51.400389  "
      ]
     },
     "execution_count": 14,
     "metadata": {},
     "output_type": "execute_result"
    }
   ],
   "source": [
    "cruiseShip['passngrsSQRT'] = np.sqrt(cruiseShip['passngrs'])\n",
    "cruiseShip.head()"
   ]
  },
  {
   "cell_type": "code",
   "execution_count": 15,
   "id": "4f5059a4",
   "metadata": {},
   "outputs": [
    {
     "data": {
      "text/plain": [
       "<AxesSubplot:>"
      ]
     },
     "execution_count": 15,
     "metadata": {},
     "output_type": "execute_result"
    },
    {
     "data": {
      "image/png": "[encoded data removed]",
      "text/plain": [
       "<Figure size 432x288 with 1 Axes>"
      ]
     },
     "metadata": {
      "needs_background": "light"
     },
     "output_type": "display_data"
    }
   ],
   "source": [
    "cruiseShip.passngrsSQRT.hist()"
   ]
  },
  {
   "cell_type": "markdown",
   "id": "51895521",
   "metadata": {},
   "source": [
    "#### Don't think its gonna get much better than that.\n",
    "## Length Variable\n",
    "### Look at Histogram"
   ]
  },
  {
   "cell_type": "code",
   "execution_count": 20,
   "id": "ac93e14e",
   "metadata": {
    "scrolled": true
   },
   "outputs": [
    {
     "data": {
      "text/plain": [
       "<AxesSubplot:>"
      ]
     },
     "execution_count": 20,
     "metadata": {},
     "output_type": "execute_result"
    },
    {
     "data": {
      "image/png": "[encoded data removed]",
      "text/plain": [
       "<Figure size 432x288 with 1 Axes>"
      ]
     },
     "metadata": {
      "needs_background": "light"
     },
     "output_type": "display_data"
    }
   ],
   "source": [
    "cruiseShip.Length.hist()"
   ]
  },
  {
   "cell_type": "markdown",
   "id": "58f4d4da",
   "metadata": {},
   "source": [
    "#### This variable looks to be negatively skewed.\n",
    "### Squaring the Variable"
   ]
  },
  {
   "cell_type": "code",
   "execution_count": 21,
   "id": "edc3a083",
   "metadata": {},
   "outputs": [
    {
     "data": {
      "text/html": [
       "<div>\n",
       "<style scoped>\n",
       "    .dataframe tbody tr th:only-of-type {\n",
       "        vertical-align: middle;\n",
       "    }\n",
       "\n",
       "    .dataframe tbody tr th {\n",
       "        vertical-align: top;\n",
       "    }\n",
       "\n",
       "    .dataframe thead th {\n",
       "        text-align: right;\n",
       "    }\n",
       "</style>\n",
       "<table border=\"1\" class=\"dataframe\">\n",
       "  <thead>\n",
       "    <tr style=\"text-align: right;\">\n",
       "      <th></th>\n",
       "      <th>Ship</th>\n",
       "      <th>Line</th>\n",
       "      <th>YearBlt</th>\n",
       "      <th>Tonnage</th>\n",
       "      <th>passngrs</th>\n",
       "      <th>Length</th>\n",
       "      <th>Cabins</th>\n",
       "      <th>Crew</th>\n",
       "      <th>PassSpcR</th>\n",
       "      <th>outcab</th>\n",
       "      <th>YearBltSQ</th>\n",
       "      <th>YearBltCUBE</th>\n",
       "      <th>TonnageSQRT</th>\n",
       "      <th>TonnageLOG</th>\n",
       "      <th>passngrsSQRT</th>\n",
       "      <th>passngrsSQ</th>\n",
       "      <th>LengthSQ</th>\n",
       "    </tr>\n",
       "  </thead>\n",
       "  <tbody>\n",
       "    <tr>\n",
       "      <th>0</th>\n",
       "      <td>Journey</td>\n",
       "      <td>Azamara</td>\n",
       "      <td>2007</td>\n",
       "      <td>30277</td>\n",
       "      <td>694</td>\n",
       "      <td>594</td>\n",
       "      <td>355</td>\n",
       "      <td>355</td>\n",
       "      <td>42.64</td>\n",
       "      <td>329</td>\n",
       "      <td>4028049</td>\n",
       "      <td>8084294343</td>\n",
       "      <td>174.002874</td>\n",
       "      <td>10.318144</td>\n",
       "      <td>26.343880</td>\n",
       "      <td>481636</td>\n",
       "      <td>352836</td>\n",
       "    </tr>\n",
       "    <tr>\n",
       "      <th>1</th>\n",
       "      <td>Quest</td>\n",
       "      <td>Azamara</td>\n",
       "      <td>2007</td>\n",
       "      <td>30277</td>\n",
       "      <td>694</td>\n",
       "      <td>594</td>\n",
       "      <td>355</td>\n",
       "      <td>355</td>\n",
       "      <td>42.64</td>\n",
       "      <td>329</td>\n",
       "      <td>4028049</td>\n",
       "      <td>8084294343</td>\n",
       "      <td>174.002874</td>\n",
       "      <td>10.318144</td>\n",
       "      <td>26.343880</td>\n",
       "      <td>481636</td>\n",
       "      <td>352836</td>\n",
       "    </tr>\n",
       "    <tr>\n",
       "      <th>2</th>\n",
       "      <td>Celebration</td>\n",
       "      <td>Carnival</td>\n",
       "      <td>1987</td>\n",
       "      <td>47262</td>\n",
       "      <td>1486</td>\n",
       "      <td>722</td>\n",
       "      <td>743</td>\n",
       "      <td>670</td>\n",
       "      <td>31.80</td>\n",
       "      <td>453</td>\n",
       "      <td>3948169</td>\n",
       "      <td>7845011803</td>\n",
       "      <td>217.398252</td>\n",
       "      <td>10.763462</td>\n",
       "      <td>38.548671</td>\n",
       "      <td>2208196</td>\n",
       "      <td>521284</td>\n",
       "    </tr>\n",
       "    <tr>\n",
       "      <th>3</th>\n",
       "      <td>Conquest</td>\n",
       "      <td>Carnival</td>\n",
       "      <td>2002</td>\n",
       "      <td>110000</td>\n",
       "      <td>2974</td>\n",
       "      <td>953</td>\n",
       "      <td>1488</td>\n",
       "      <td>1910</td>\n",
       "      <td>36.99</td>\n",
       "      <td>892</td>\n",
       "      <td>4008004</td>\n",
       "      <td>8024024008</td>\n",
       "      <td>331.662479</td>\n",
       "      <td>11.608236</td>\n",
       "      <td>54.534393</td>\n",
       "      <td>8844676</td>\n",
       "      <td>908209</td>\n",
       "    </tr>\n",
       "    <tr>\n",
       "      <th>4</th>\n",
       "      <td>Destiny</td>\n",
       "      <td>Carnival</td>\n",
       "      <td>1996</td>\n",
       "      <td>101353</td>\n",
       "      <td>2642</td>\n",
       "      <td>892</td>\n",
       "      <td>1321</td>\n",
       "      <td>1000</td>\n",
       "      <td>38.36</td>\n",
       "      <td>740</td>\n",
       "      <td>3984016</td>\n",
       "      <td>7952095936</td>\n",
       "      <td>318.359859</td>\n",
       "      <td>11.526365</td>\n",
       "      <td>51.400389</td>\n",
       "      <td>6980164</td>\n",
       "      <td>795664</td>\n",
       "    </tr>\n",
       "  </tbody>\n",
       "</table>\n",
       "</div>"
      ],
      "text/plain": [
       "          Ship      Line  YearBlt  Tonnage  passngrs  Length  Cabins  Crew  \\\n",
       "0      Journey   Azamara     2007    30277       694     594     355   355   \n",
       "1        Quest   Azamara     2007    30277       694     594     355   355   \n",
       "2  Celebration  Carnival     1987    47262      1486     722     743   670   \n",
       "3     Conquest  Carnival     2002   110000      2974     953    1488  1910   \n",
       "4      Destiny  Carnival     1996   101353      2642     892    1321  1000   \n",
       "\n",
       "   PassSpcR  outcab  YearBltSQ  YearBltCUBE  TonnageSQRT  TonnageLOG  \\\n",
       "0     42.64     329    4028049   8084294343   174.002874   10.318144   \n",
       "1     42.64     329    4028049   8084294343   174.002874   10.318144   \n",
       "2     31.80     453    3948169   7845011803   217.398252   10.763462   \n",
       "3     36.99     892    4008004   8024024008   331.662479   11.608236   \n",
       "4     38.36     740    3984016   7952095936   318.359859   11.526365   \n",
       "\n",
       "   passngrsSQRT  passngrsSQ  LengthSQ  \n",
       "0     26.343880      481636    352836  \n",
       "1     26.343880      481636    352836  \n",
       "2     38.548671     2208196    521284  \n",
       "3     54.534393     8844676    908209  \n",
       "4     51.400389     6980164    795664  "
      ]
     },
     "execution_count": 21,
     "metadata": {},
     "output_type": "execute_result"
    }
   ],
   "source": [
    "cruiseShip['LengthSQ'] = cruiseShip['Length']**2\n",
    "cruiseShip.head()"
   ]
  },
  {
   "cell_type": "code",
   "execution_count": 22,
   "id": "5a37f42d",
   "metadata": {},
   "outputs": [
    {
     "data": {
      "text/plain": [
       "<AxesSubplot:>"
      ]
     },
     "execution_count": 22,
     "metadata": {},
     "output_type": "execute_result"
    },
    {
     "data": {
      "image/png": "[encoded data removed]",
      "text/plain": [
       "<Figure size 432x288 with 1 Axes>"
      ]
     },
     "metadata": {
      "needs_background": "light"
     },
     "output_type": "display_data"
    }
   ],
   "source": [
    "cruiseShip.LengthSQ.hist()"
   ]
  },
  {
   "cell_type": "markdown",
   "id": "a49184fd",
   "metadata": {},
   "source": [
    "#### Just taking a peak at the cube."
   ]
  },
  {
   "cell_type": "code",
   "execution_count": 23,
   "id": "26e69f23",
   "metadata": {},
   "outputs": [
    {
     "data": {
      "text/plain": [
       "<AxesSubplot:>"
      ]
     },
     "execution_count": 23,
     "metadata": {},
     "output_type": "execute_result"
    },
    {
     "data": {
      "image/png": "[encoded data removed]",
      "text/plain": [
       "<Figure size 432x288 with 1 Axes>"
      ]
     },
     "metadata": {
      "needs_background": "light"
     },
     "output_type": "display_data"
    }
   ],
   "source": [
    "cruiseShip['LengthCUBE'] = cruiseShip['Length']**3\n",
    "cruiseShip.LengthCUBE.hist()"
   ]
  },
  {
   "cell_type": "markdown",
   "id": "a7d42963",
   "metadata": {},
   "source": [
    "#### Squaring the variable is the best choice.\n",
    "## Cabins Variable\n",
    "### Making a Histogram"
   ]
  },
  {
   "cell_type": "code",
   "execution_count": 24,
   "id": "879c8f96",
   "metadata": {},
   "outputs": [
    {
     "data": {
      "text/plain": [
       "<AxesSubplot:>"
      ]
     },
     "execution_count": 24,
     "metadata": {},
     "output_type": "execute_result"
    },
    {
     "data": {
      "image/png": "[encoded data removed]",
      "text/plain": [
       "<Figure size 432x288 with 1 Axes>"
      ]
     },
     "metadata": {
      "needs_background": "light"
     },
     "output_type": "display_data"
    }
   ],
   "source": [
    "cruiseShip.Cabins.hist()"
   ]
  },
  {
   "cell_type": "markdown",
   "id": "5954a47a",
   "metadata": {},
   "source": [
    "#### Looks a bit positivley skewed. \n",
    "### Taking the Square Root"
   ]
  },
  {
   "cell_type": "code",
   "execution_count": 25,
   "id": "63b98cfa",
   "metadata": {},
   "outputs": [
    {
     "data": {
      "text/html": [
       "<div>\n",
       "<style scoped>\n",
       "    .dataframe tbody tr th:only-of-type {\n",
       "        vertical-align: middle;\n",
       "    }\n",
       "\n",
       "    .dataframe tbody tr th {\n",
       "        vertical-align: top;\n",
       "    }\n",
       "\n",
       "    .dataframe thead th {\n",
       "        text-align: right;\n",
       "    }\n",
       "</style>\n",
       "<table border=\"1\" class=\"dataframe\">\n",
       "  <thead>\n",
       "    <tr style=\"text-align: right;\">\n",
       "      <th></th>\n",
       "      <th>Ship</th>\n",
       "      <th>Line</th>\n",
       "      <th>YearBlt</th>\n",
       "      <th>Tonnage</th>\n",
       "      <th>passngrs</th>\n",
       "      <th>Length</th>\n",
       "      <th>Cabins</th>\n",
       "      <th>Crew</th>\n",
       "      <th>PassSpcR</th>\n",
       "      <th>outcab</th>\n",
       "      <th>YearBltSQ</th>\n",
       "      <th>YearBltCUBE</th>\n",
       "      <th>TonnageSQRT</th>\n",
       "      <th>TonnageLOG</th>\n",
       "      <th>passngrsSQRT</th>\n",
       "      <th>passngrsSQ</th>\n",
       "      <th>LengthSQ</th>\n",
       "      <th>LengthCUBE</th>\n",
       "      <th>CabinsSQRT</th>\n",
       "    </tr>\n",
       "  </thead>\n",
       "  <tbody>\n",
       "    <tr>\n",
       "      <th>0</th>\n",
       "      <td>Journey</td>\n",
       "      <td>Azamara</td>\n",
       "      <td>2007</td>\n",
       "      <td>30277</td>\n",
       "      <td>694</td>\n",
       "      <td>594</td>\n",
       "      <td>355</td>\n",
       "      <td>355</td>\n",
       "      <td>42.64</td>\n",
       "      <td>329</td>\n",
       "      <td>4028049</td>\n",
       "      <td>8084294343</td>\n",
       "      <td>174.002874</td>\n",
       "      <td>10.318144</td>\n",
       "      <td>26.343880</td>\n",
       "      <td>481636</td>\n",
       "      <td>352836</td>\n",
       "      <td>209584584</td>\n",
       "      <td>18.841444</td>\n",
       "    </tr>\n",
       "    <tr>\n",
       "      <th>1</th>\n",
       "      <td>Quest</td>\n",
       "      <td>Azamara</td>\n",
       "      <td>2007</td>\n",
       "      <td>30277</td>\n",
       "      <td>694</td>\n",
       "      <td>594</td>\n",
       "      <td>355</td>\n",
       "      <td>355</td>\n",
       "      <td>42.64</td>\n",
       "      <td>329</td>\n",
       "      <td>4028049</td>\n",
       "      <td>8084294343</td>\n",
       "      <td>174.002874</td>\n",
       "      <td>10.318144</td>\n",
       "      <td>26.343880</td>\n",
       "      <td>481636</td>\n",
       "      <td>352836</td>\n",
       "      <td>209584584</td>\n",
       "      <td>18.841444</td>\n",
       "    </tr>\n",
       "    <tr>\n",
       "      <th>2</th>\n",
       "      <td>Celebration</td>\n",
       "      <td>Carnival</td>\n",
       "      <td>1987</td>\n",
       "      <td>47262</td>\n",
       "      <td>1486</td>\n",
       "      <td>722</td>\n",
       "      <td>743</td>\n",
       "      <td>670</td>\n",
       "      <td>31.80</td>\n",
       "      <td>453</td>\n",
       "      <td>3948169</td>\n",
       "      <td>7845011803</td>\n",
       "      <td>217.398252</td>\n",
       "      <td>10.763462</td>\n",
       "      <td>38.548671</td>\n",
       "      <td>2208196</td>\n",
       "      <td>521284</td>\n",
       "      <td>376367048</td>\n",
       "      <td>27.258026</td>\n",
       "    </tr>\n",
       "    <tr>\n",
       "      <th>3</th>\n",
       "      <td>Conquest</td>\n",
       "      <td>Carnival</td>\n",
       "      <td>2002</td>\n",
       "      <td>110000</td>\n",
       "      <td>2974</td>\n",
       "      <td>953</td>\n",
       "      <td>1488</td>\n",
       "      <td>1910</td>\n",
       "      <td>36.99</td>\n",
       "      <td>892</td>\n",
       "      <td>4008004</td>\n",
       "      <td>8024024008</td>\n",
       "      <td>331.662479</td>\n",
       "      <td>11.608236</td>\n",
       "      <td>54.534393</td>\n",
       "      <td>8844676</td>\n",
       "      <td>908209</td>\n",
       "      <td>865523177</td>\n",
       "      <td>38.574603</td>\n",
       "    </tr>\n",
       "    <tr>\n",
       "      <th>4</th>\n",
       "      <td>Destiny</td>\n",
       "      <td>Carnival</td>\n",
       "      <td>1996</td>\n",
       "      <td>101353</td>\n",
       "      <td>2642</td>\n",
       "      <td>892</td>\n",
       "      <td>1321</td>\n",
       "      <td>1000</td>\n",
       "      <td>38.36</td>\n",
       "      <td>740</td>\n",
       "      <td>3984016</td>\n",
       "      <td>7952095936</td>\n",
       "      <td>318.359859</td>\n",
       "      <td>11.526365</td>\n",
       "      <td>51.400389</td>\n",
       "      <td>6980164</td>\n",
       "      <td>795664</td>\n",
       "      <td>709732288</td>\n",
       "      <td>36.345564</td>\n",
       "    </tr>\n",
       "  </tbody>\n",
       "</table>\n",
       "</div>"
      ],
      "text/plain": [
       "          Ship      Line  YearBlt  Tonnage  passngrs  Length  Cabins  Crew  \\\n",
       "0      Journey   Azamara     2007    30277       694     594     355   355   \n",
       "1        Quest   Azamara     2007    30277       694     594     355   355   \n",
       "2  Celebration  Carnival     1987    47262      1486     722     743   670   \n",
       "3     Conquest  Carnival     2002   110000      2974     953    1488  1910   \n",
       "4      Destiny  Carnival     1996   101353      2642     892    1321  1000   \n",
       "\n",
       "   PassSpcR  outcab  YearBltSQ  YearBltCUBE  TonnageSQRT  TonnageLOG  \\\n",
       "0     42.64     329    4028049   8084294343   174.002874   10.318144   \n",
       "1     42.64     329    4028049   8084294343   174.002874   10.318144   \n",
       "2     31.80     453    3948169   7845011803   217.398252   10.763462   \n",
       "3     36.99     892    4008004   8024024008   331.662479   11.608236   \n",
       "4     38.36     740    3984016   7952095936   318.359859   11.526365   \n",
       "\n",
       "   passngrsSQRT  passngrsSQ  LengthSQ  LengthCUBE  CabinsSQRT  \n",
       "0     26.343880      481636    352836   209584584   18.841444  \n",
       "1     26.343880      481636    352836   209584584   18.841444  \n",
       "2     38.548671     2208196    521284   376367048   27.258026  \n",
       "3     54.534393     8844676    908209   865523177   38.574603  \n",
       "4     51.400389     6980164    795664   709732288   36.345564  "
      ]
     },
     "execution_count": 25,
     "metadata": {},
     "output_type": "execute_result"
    }
   ],
   "source": [
    "cruiseShip['CabinsSQRT'] = np.sqrt(cruiseShip['Cabins'])\n",
    "cruiseShip.head()"
   ]
  },
  {
   "cell_type": "code",
   "execution_count": 26,
   "id": "b70d27bc",
   "metadata": {},
   "outputs": [
    {
     "data": {
      "text/plain": [
       "<AxesSubplot:>"
      ]
     },
     "execution_count": 26,
     "metadata": {},
     "output_type": "execute_result"
    },
    {
     "data": {
      "image/png": "[encoded data removed]",
      "text/plain": [
       "<Figure size 432x288 with 1 Axes>"
      ]
     },
     "metadata": {
      "needs_background": "light"
     },
     "output_type": "display_data"
    }
   ],
   "source": [
    "cruiseShip.CabinsSQRT.hist()"
   ]
  },
  {
   "cell_type": "markdown",
   "id": "1ba82396",
   "metadata": {},
   "source": [
    "#### The Square Root looks like it's the best choice. \n",
    "## Crew Variable\n",
    "### Making a Histogram"
   ]
  },
  {
   "cell_type": "code",
   "execution_count": 27,
   "id": "875ccfbf",
   "metadata": {},
   "outputs": [
    {
     "data": {
      "text/plain": [
       "<AxesSubplot:>"
      ]
     },
     "execution_count": 27,
     "metadata": {},
     "output_type": "execute_result"
    },
    {
     "data": {
      "image/png": "[encoded data removed]",
      "text/plain": [
       "<Figure size 432x288 with 1 Axes>"
      ]
     },
     "metadata": {
      "needs_background": "light"
     },
     "output_type": "display_data"
    }
   ],
   "source": [
    "cruiseShip.Crew.hist()"
   ]
  },
  {
   "cell_type": "markdown",
   "id": "632a9fe8",
   "metadata": {},
   "source": [
    "#### Ever so slighly skewed positively.\n",
    "### Taking the Square Root"
   ]
  },
  {
   "cell_type": "code",
   "execution_count": 28,
   "id": "750d1867",
   "metadata": {},
   "outputs": [
    {
     "data": {
      "text/html": [
       "<div>\n",
       "<style scoped>\n",
       "    .dataframe tbody tr th:only-of-type {\n",
       "        vertical-align: middle;\n",
       "    }\n",
       "\n",
       "    .dataframe tbody tr th {\n",
       "        vertical-align: top;\n",
       "    }\n",
       "\n",
       "    .dataframe thead th {\n",
       "        text-align: right;\n",
       "    }\n",
       "</style>\n",
       "<table border=\"1\" class=\"dataframe\">\n",
       "  <thead>\n",
       "    <tr style=\"text-align: right;\">\n",
       "      <th></th>\n",
       "      <th>Ship</th>\n",
       "      <th>Line</th>\n",
       "      <th>YearBlt</th>\n",
       "      <th>Tonnage</th>\n",
       "      <th>passngrs</th>\n",
       "      <th>Length</th>\n",
       "      <th>Cabins</th>\n",
       "      <th>Crew</th>\n",
       "      <th>PassSpcR</th>\n",
       "      <th>outcab</th>\n",
       "      <th>YearBltSQ</th>\n",
       "      <th>YearBltCUBE</th>\n",
       "      <th>TonnageSQRT</th>\n",
       "      <th>TonnageLOG</th>\n",
       "      <th>passngrsSQRT</th>\n",
       "      <th>passngrsSQ</th>\n",
       "      <th>LengthSQ</th>\n",
       "      <th>LengthCUBE</th>\n",
       "      <th>CabinsSQRT</th>\n",
       "      <th>CrewSQRT</th>\n",
       "    </tr>\n",
       "  </thead>\n",
       "  <tbody>\n",
       "    <tr>\n",
       "      <th>0</th>\n",
       "      <td>Journey</td>\n",
       "      <td>Azamara</td>\n",
       "      <td>2007</td>\n",
       "      <td>30277</td>\n",
       "      <td>694</td>\n",
       "      <td>594</td>\n",
       "      <td>355</td>\n",
       "      <td>355</td>\n",
       "      <td>42.64</td>\n",
       "      <td>329</td>\n",
       "      <td>4028049</td>\n",
       "      <td>8084294343</td>\n",
       "      <td>174.002874</td>\n",
       "      <td>10.318144</td>\n",
       "      <td>26.343880</td>\n",
       "      <td>481636</td>\n",
       "      <td>352836</td>\n",
       "      <td>209584584</td>\n",
       "      <td>18.841444</td>\n",
       "      <td>18.841444</td>\n",
       "    </tr>\n",
       "    <tr>\n",
       "      <th>1</th>\n",
       "      <td>Quest</td>\n",
       "      <td>Azamara</td>\n",
       "      <td>2007</td>\n",
       "      <td>30277</td>\n",
       "      <td>694</td>\n",
       "      <td>594</td>\n",
       "      <td>355</td>\n",
       "      <td>355</td>\n",
       "      <td>42.64</td>\n",
       "      <td>329</td>\n",
       "      <td>4028049</td>\n",
       "      <td>8084294343</td>\n",
       "      <td>174.002874</td>\n",
       "      <td>10.318144</td>\n",
       "      <td>26.343880</td>\n",
       "      <td>481636</td>\n",
       "      <td>352836</td>\n",
       "      <td>209584584</td>\n",
       "      <td>18.841444</td>\n",
       "      <td>18.841444</td>\n",
       "    </tr>\n",
       "    <tr>\n",
       "      <th>2</th>\n",
       "      <td>Celebration</td>\n",
       "      <td>Carnival</td>\n",
       "      <td>1987</td>\n",
       "      <td>47262</td>\n",
       "      <td>1486</td>\n",
       "      <td>722</td>\n",
       "      <td>743</td>\n",
       "      <td>670</td>\n",
       "      <td>31.80</td>\n",
       "      <td>453</td>\n",
       "      <td>3948169</td>\n",
       "      <td>7845011803</td>\n",
       "      <td>217.398252</td>\n",
       "      <td>10.763462</td>\n",
       "      <td>38.548671</td>\n",
       "      <td>2208196</td>\n",
       "      <td>521284</td>\n",
       "      <td>376367048</td>\n",
       "      <td>27.258026</td>\n",
       "      <td>25.884358</td>\n",
       "    </tr>\n",
       "    <tr>\n",
       "      <th>3</th>\n",
       "      <td>Conquest</td>\n",
       "      <td>Carnival</td>\n",
       "      <td>2002</td>\n",
       "      <td>110000</td>\n",
       "      <td>2974</td>\n",
       "      <td>953</td>\n",
       "      <td>1488</td>\n",
       "      <td>1910</td>\n",
       "      <td>36.99</td>\n",
       "      <td>892</td>\n",
       "      <td>4008004</td>\n",
       "      <td>8024024008</td>\n",
       "      <td>331.662479</td>\n",
       "      <td>11.608236</td>\n",
       "      <td>54.534393</td>\n",
       "      <td>8844676</td>\n",
       "      <td>908209</td>\n",
       "      <td>865523177</td>\n",
       "      <td>38.574603</td>\n",
       "      <td>43.703547</td>\n",
       "    </tr>\n",
       "    <tr>\n",
       "      <th>4</th>\n",
       "      <td>Destiny</td>\n",
       "      <td>Carnival</td>\n",
       "      <td>1996</td>\n",
       "      <td>101353</td>\n",
       "      <td>2642</td>\n",
       "      <td>892</td>\n",
       "      <td>1321</td>\n",
       "      <td>1000</td>\n",
       "      <td>38.36</td>\n",
       "      <td>740</td>\n",
       "      <td>3984016</td>\n",
       "      <td>7952095936</td>\n",
       "      <td>318.359859</td>\n",
       "      <td>11.526365</td>\n",
       "      <td>51.400389</td>\n",
       "      <td>6980164</td>\n",
       "      <td>795664</td>\n",
       "      <td>709732288</td>\n",
       "      <td>36.345564</td>\n",
       "      <td>31.622777</td>\n",
       "    </tr>\n",
       "  </tbody>\n",
       "</table>\n",
       "</div>"
      ],
      "text/plain": [
       "          Ship      Line  YearBlt  Tonnage  passngrs  Length  Cabins  Crew  \\\n",
       "0      Journey   Azamara     2007    30277       694     594     355   355   \n",
       "1        Quest   Azamara     2007    30277       694     594     355   355   \n",
       "2  Celebration  Carnival     1987    47262      1486     722     743   670   \n",
       "3     Conquest  Carnival     2002   110000      2974     953    1488  1910   \n",
       "4      Destiny  Carnival     1996   101353      2642     892    1321  1000   \n",
       "\n",
       "   PassSpcR  outcab  YearBltSQ  YearBltCUBE  TonnageSQRT  TonnageLOG  \\\n",
       "0     42.64     329    4028049   8084294343   174.002874   10.318144   \n",
       "1     42.64     329    4028049   8084294343   174.002874   10.318144   \n",
       "2     31.80     453    3948169   7845011803   217.398252   10.763462   \n",
       "3     36.99     892    4008004   8024024008   331.662479   11.608236   \n",
       "4     38.36     740    3984016   7952095936   318.359859   11.526365   \n",
       "\n",
       "   passngrsSQRT  passngrsSQ  LengthSQ  LengthCUBE  CabinsSQRT   CrewSQRT  \n",
       "0     26.343880      481636    352836   209584584   18.841444  18.841444  \n",
       "1     26.343880      481636    352836   209584584   18.841444  18.841444  \n",
       "2     38.548671     2208196    521284   376367048   27.258026  25.884358  \n",
       "3     54.534393     8844676    908209   865523177   38.574603  43.703547  \n",
       "4     51.400389     6980164    795664   709732288   36.345564  31.622777  "
      ]
     },
     "execution_count": 28,
     "metadata": {},
     "output_type": "execute_result"
    }
   ],
   "source": [
    "cruiseShip['CrewSQRT'] = np.sqrt(cruiseShip['Crew'])\n",
    "cruiseShip.head()"
   ]
  },
  {
   "cell_type": "code",
   "execution_count": 29,
   "id": "1310c2b9",
   "metadata": {},
   "outputs": [
    {
     "data": {
      "text/plain": [
       "<AxesSubplot:>"
      ]
     },
     "execution_count": 29,
     "metadata": {},
     "output_type": "execute_result"
    },
    {
     "data": {
      "image/png": "[encoded data removed]",
      "text/plain": [
       "<Figure size 432x288 with 1 Axes>"
      ]
     },
     "metadata": {
      "needs_background": "light"
     },
     "output_type": "display_data"
    }
   ],
   "source": [
    "cruiseShip.CrewSQRT.hist()"
   ]
  },
  {
   "cell_type": "markdown",
   "id": "07cc41fd",
   "metadata": {},
   "source": [
    "#### Looking pretty good! \n",
    "## PassSpcR Variable \n",
    "### Making a Histogram"
   ]
  },
  {
   "cell_type": "code",
   "execution_count": 30,
   "id": "f7e177d3",
   "metadata": {},
   "outputs": [
    {
     "data": {
      "text/plain": [
       "<AxesSubplot:>"
      ]
     },
     "execution_count": 30,
     "metadata": {},
     "output_type": "execute_result"
    },
    {
     "data": {
      "image/png": "[encoded data removed]",
      "text/plain": [
       "<Figure size 432x288 with 1 Axes>"
      ]
     },
     "metadata": {
      "needs_background": "light"
     },
     "output_type": "display_data"
    }
   ],
   "source": [
    "cruiseShip.PassSpcR.hist()"
   ]
  },
  {
   "cell_type": "markdown",
   "id": "6bcb6be5",
   "metadata": {},
   "source": [
    "#### A bit positively skewed.\n",
    "### Taking the Square Root"
   ]
  },
  {
   "cell_type": "code",
   "execution_count": 31,
   "id": "ab4fb978",
   "metadata": {},
   "outputs": [
    {
     "data": {
      "text/html": [
       "<div>\n",
       "<style scoped>\n",
       "    .dataframe tbody tr th:only-of-type {\n",
       "        vertical-align: middle;\n",
       "    }\n",
       "\n",
       "    .dataframe tbody tr th {\n",
       "        vertical-align: top;\n",
       "    }\n",
       "\n",
       "    .dataframe thead th {\n",
       "        text-align: right;\n",
       "    }\n",
       "</style>\n",
       "<table border=\"1\" class=\"dataframe\">\n",
       "  <thead>\n",
       "    <tr style=\"text-align: right;\">\n",
       "      <th></th>\n",
       "      <th>Ship</th>\n",
       "      <th>Line</th>\n",
       "      <th>YearBlt</th>\n",
       "      <th>Tonnage</th>\n",
       "      <th>passngrs</th>\n",
       "      <th>Length</th>\n",
       "      <th>Cabins</th>\n",
       "      <th>Crew</th>\n",
       "      <th>PassSpcR</th>\n",
       "      <th>outcab</th>\n",
       "      <th>...</th>\n",
       "      <th>YearBltCUBE</th>\n",
       "      <th>TonnageSQRT</th>\n",
       "      <th>TonnageLOG</th>\n",
       "      <th>passngrsSQRT</th>\n",
       "      <th>passngrsSQ</th>\n",
       "      <th>LengthSQ</th>\n",
       "      <th>LengthCUBE</th>\n",
       "      <th>CabinsSQRT</th>\n",
       "      <th>CrewSQRT</th>\n",
       "      <th>PassSpcRSQRT</th>\n",
       "    </tr>\n",
       "  </thead>\n",
       "  <tbody>\n",
       "    <tr>\n",
       "      <th>0</th>\n",
       "      <td>Journey</td>\n",
       "      <td>Azamara</td>\n",
       "      <td>2007</td>\n",
       "      <td>30277</td>\n",
       "      <td>694</td>\n",
       "      <td>594</td>\n",
       "      <td>355</td>\n",
       "      <td>355</td>\n",
       "      <td>42.64</td>\n",
       "      <td>329</td>\n",
       "      <td>...</td>\n",
       "      <td>8084294343</td>\n",
       "      <td>174.002874</td>\n",
       "      <td>10.318144</td>\n",
       "      <td>26.343880</td>\n",
       "      <td>481636</td>\n",
       "      <td>352836</td>\n",
       "      <td>209584584</td>\n",
       "      <td>18.841444</td>\n",
       "      <td>18.841444</td>\n",
       "      <td>6.529931</td>\n",
       "    </tr>\n",
       "    <tr>\n",
       "      <th>1</th>\n",
       "      <td>Quest</td>\n",
       "      <td>Azamara</td>\n",
       "      <td>2007</td>\n",
       "      <td>30277</td>\n",
       "      <td>694</td>\n",
       "      <td>594</td>\n",
       "      <td>355</td>\n",
       "      <td>355</td>\n",
       "      <td>42.64</td>\n",
       "      <td>329</td>\n",
       "      <td>...</td>\n",
       "      <td>8084294343</td>\n",
       "      <td>174.002874</td>\n",
       "      <td>10.318144</td>\n",
       "      <td>26.343880</td>\n",
       "      <td>481636</td>\n",
       "      <td>352836</td>\n",
       "      <td>209584584</td>\n",
       "      <td>18.841444</td>\n",
       "      <td>18.841444</td>\n",
       "      <td>6.529931</td>\n",
       "    </tr>\n",
       "    <tr>\n",
       "      <th>2</th>\n",
       "      <td>Celebration</td>\n",
       "      <td>Carnival</td>\n",
       "      <td>1987</td>\n",
       "      <td>47262</td>\n",
       "      <td>1486</td>\n",
       "      <td>722</td>\n",
       "      <td>743</td>\n",
       "      <td>670</td>\n",
       "      <td>31.80</td>\n",
       "      <td>453</td>\n",
       "      <td>...</td>\n",
       "      <td>7845011803</td>\n",
       "      <td>217.398252</td>\n",
       "      <td>10.763462</td>\n",
       "      <td>38.548671</td>\n",
       "      <td>2208196</td>\n",
       "      <td>521284</td>\n",
       "      <td>376367048</td>\n",
       "      <td>27.258026</td>\n",
       "      <td>25.884358</td>\n",
       "      <td>5.639149</td>\n",
       "    </tr>\n",
       "    <tr>\n",
       "      <th>3</th>\n",
       "      <td>Conquest</td>\n",
       "      <td>Carnival</td>\n",
       "      <td>2002</td>\n",
       "      <td>110000</td>\n",
       "      <td>2974</td>\n",
       "      <td>953</td>\n",
       "      <td>1488</td>\n",
       "      <td>1910</td>\n",
       "      <td>36.99</td>\n",
       "      <td>892</td>\n",
       "      <td>...</td>\n",
       "      <td>8024024008</td>\n",
       "      <td>331.662479</td>\n",
       "      <td>11.608236</td>\n",
       "      <td>54.534393</td>\n",
       "      <td>8844676</td>\n",
       "      <td>908209</td>\n",
       "      <td>865523177</td>\n",
       "      <td>38.574603</td>\n",
       "      <td>43.703547</td>\n",
       "      <td>6.081940</td>\n",
       "    </tr>\n",
       "    <tr>\n",
       "      <th>4</th>\n",
       "      <td>Destiny</td>\n",
       "      <td>Carnival</td>\n",
       "      <td>1996</td>\n",
       "      <td>101353</td>\n",
       "      <td>2642</td>\n",
       "      <td>892</td>\n",
       "      <td>1321</td>\n",
       "      <td>1000</td>\n",
       "      <td>38.36</td>\n",
       "      <td>740</td>\n",
       "      <td>...</td>\n",
       "      <td>7952095936</td>\n",
       "      <td>318.359859</td>\n",
       "      <td>11.526365</td>\n",
       "      <td>51.400389</td>\n",
       "      <td>6980164</td>\n",
       "      <td>795664</td>\n",
       "      <td>709732288</td>\n",
       "      <td>36.345564</td>\n",
       "      <td>31.622777</td>\n",
       "      <td>6.193545</td>\n",
       "    </tr>\n",
       "  </tbody>\n",
       "</table>\n",
       "<p>5 rows × 21 columns</p>\n",
       "</div>"
      ],
      "text/plain": [
       "          Ship      Line  YearBlt  Tonnage  passngrs  Length  Cabins  Crew  \\\n",
       "0      Journey   Azamara     2007    30277       694     594     355   355   \n",
       "1        Quest   Azamara     2007    30277       694     594     355   355   \n",
       "2  Celebration  Carnival     1987    47262      1486     722     743   670   \n",
       "3     Conquest  Carnival     2002   110000      2974     953    1488  1910   \n",
       "4      Destiny  Carnival     1996   101353      2642     892    1321  1000   \n",
       "\n",
       "   PassSpcR  outcab  ...  YearBltCUBE  TonnageSQRT  TonnageLOG  passngrsSQRT  \\\n",
       "0     42.64     329  ...   8084294343   174.002874   10.318144     26.343880   \n",
       "1     42.64     329  ...   8084294343   174.002874   10.318144     26.343880   \n",
       "2     31.80     453  ...   7845011803   217.398252   10.763462     38.548671   \n",
       "3     36.99     892  ...   8024024008   331.662479   11.608236     54.534393   \n",
       "4     38.36     740  ...   7952095936   318.359859   11.526365     51.400389   \n",
       "\n",
       "   passngrsSQ  LengthSQ  LengthCUBE  CabinsSQRT   CrewSQRT  PassSpcRSQRT  \n",
       "0      481636    352836   209584584   18.841444  18.841444      6.529931  \n",
       "1      481636    352836   209584584   18.841444  18.841444      6.529931  \n",
       "2     2208196    521284   376367048   27.258026  25.884358      5.639149  \n",
       "3     8844676    908209   865523177   38.574603  43.703547      6.081940  \n",
       "4     6980164    795664   709732288   36.345564  31.622777      6.193545  \n",
       "\n",
       "[5 rows x 21 columns]"
      ]
     },
     "execution_count": 31,
     "metadata": {},
     "output_type": "execute_result"
    }
   ],
   "source": [
    "cruiseShip['PassSpcRSQRT'] = np.sqrt(cruiseShip['PassSpcR'])\n",
    "cruiseShip.head()"
   ]
  },
  {
   "cell_type": "code",
   "execution_count": 32,
   "id": "f002453a",
   "metadata": {},
   "outputs": [
    {
     "data": {
      "text/plain": [
       "<AxesSubplot:>"
      ]
     },
     "execution_count": 32,
     "metadata": {},
     "output_type": "execute_result"
    },
    {
     "data": {
      "image/png": "[encoded data removed]",
      "text/plain": [
       "<Figure size 432x288 with 1 Axes>"
      ]
     },
     "metadata": {
      "needs_background": "light"
     },
     "output_type": "display_data"
    }
   ],
   "source": [
    "cruiseShip.PassSpcRSQRT.hist()"
   ]
  },
  {
   "cell_type": "markdown",
   "id": "6a9e498c",
   "metadata": {},
   "source": [
    "#### Taking a peak at the log. "
   ]
  },
  {
   "cell_type": "code",
   "execution_count": 33,
   "id": "45d030ef",
   "metadata": {},
   "outputs": [
    {
     "data": {
      "text/plain": [
       "<AxesSubplot:>"
      ]
     },
     "execution_count": 33,
     "metadata": {},
     "output_type": "execute_result"
    },
    {
     "data": {
      "image/png": "[encoded data removed]",
      "text/plain": [
       "<Figure size 432x288 with 1 Axes>"
      ]
     },
     "metadata": {
      "needs_background": "light"
     },
     "output_type": "display_data"
    }
   ],
   "source": [
    "cruiseShip['PassSpcRLOG'] = np.log(cruiseShip['PassSpcR'])\n",
    "cruiseShip.PassSpcRLOG.hist()"
   ]
  },
  {
   "cell_type": "markdown",
   "id": "8b160f3a",
   "metadata": {},
   "source": [
    "#### The log is a little bit too much. The Square Root is better. \n",
    "## outcab Variable\n",
    "### Making a Histogram"
   ]
  },
  {
   "cell_type": "code",
   "execution_count": 34,
   "id": "ed1a1481",
   "metadata": {},
   "outputs": [
    {
     "data": {
      "text/plain": [
       "<AxesSubplot:>"
      ]
     },
     "execution_count": 34,
     "metadata": {},
     "output_type": "execute_result"
    },
    {
     "data": {
      "image/png": "[encoded data removed]",
      "text/plain": [
       "<Figure size 432x288 with 1 Axes>"
      ]
     },
     "metadata": {
      "needs_background": "light"
     },
     "output_type": "display_data"
    }
   ],
   "source": [
    "cruiseShip.outcab.hist()"
   ]
  },
  {
   "cell_type": "markdown",
   "id": "a32cb152",
   "metadata": {},
   "source": [
    "#### This variable looks to be positively skewed.\n",
    "### Taking the Square Root"
   ]
  },
  {
   "cell_type": "code",
   "execution_count": 35,
   "id": "a9f17c0d",
   "metadata": {},
   "outputs": [
    {
     "data": {
      "text/html": [
       "<div>\n",
       "<style scoped>\n",
       "    .dataframe tbody tr th:only-of-type {\n",
       "        vertical-align: middle;\n",
       "    }\n",
       "\n",
       "    .dataframe tbody tr th {\n",
       "        vertical-align: top;\n",
       "    }\n",
       "\n",
       "    .dataframe thead th {\n",
       "        text-align: right;\n",
       "    }\n",
       "</style>\n",
       "<table border=\"1\" class=\"dataframe\">\n",
       "  <thead>\n",
       "    <tr style=\"text-align: right;\">\n",
       "      <th></th>\n",
       "      <th>Ship</th>\n",
       "      <th>Line</th>\n",
       "      <th>YearBlt</th>\n",
       "      <th>Tonnage</th>\n",
       "      <th>passngrs</th>\n",
       "      <th>Length</th>\n",
       "      <th>Cabins</th>\n",
       "      <th>Crew</th>\n",
       "      <th>PassSpcR</th>\n",
       "      <th>outcab</th>\n",
       "      <th>...</th>\n",
       "      <th>TonnageLOG</th>\n",
       "      <th>passngrsSQRT</th>\n",
       "      <th>passngrsSQ</th>\n",
       "      <th>LengthSQ</th>\n",
       "      <th>LengthCUBE</th>\n",
       "      <th>CabinsSQRT</th>\n",
       "      <th>CrewSQRT</th>\n",
       "      <th>PassSpcRSQRT</th>\n",
       "      <th>PassSpcRLOG</th>\n",
       "      <th>outcabSQRT</th>\n",
       "    </tr>\n",
       "  </thead>\n",
       "  <tbody>\n",
       "    <tr>\n",
       "      <th>0</th>\n",
       "      <td>Journey</td>\n",
       "      <td>Azamara</td>\n",
       "      <td>2007</td>\n",
       "      <td>30277</td>\n",
       "      <td>694</td>\n",
       "      <td>594</td>\n",
       "      <td>355</td>\n",
       "      <td>355</td>\n",
       "      <td>42.64</td>\n",
       "      <td>329</td>\n",
       "      <td>...</td>\n",
       "      <td>10.318144</td>\n",
       "      <td>26.343880</td>\n",
       "      <td>481636</td>\n",
       "      <td>352836</td>\n",
       "      <td>209584584</td>\n",
       "      <td>18.841444</td>\n",
       "      <td>18.841444</td>\n",
       "      <td>6.529931</td>\n",
       "      <td>3.752793</td>\n",
       "      <td>18.138357</td>\n",
       "    </tr>\n",
       "    <tr>\n",
       "      <th>1</th>\n",
       "      <td>Quest</td>\n",
       "      <td>Azamara</td>\n",
       "      <td>2007</td>\n",
       "      <td>30277</td>\n",
       "      <td>694</td>\n",
       "      <td>594</td>\n",
       "      <td>355</td>\n",
       "      <td>355</td>\n",
       "      <td>42.64</td>\n",
       "      <td>329</td>\n",
       "      <td>...</td>\n",
       "      <td>10.318144</td>\n",
       "      <td>26.343880</td>\n",
       "      <td>481636</td>\n",
       "      <td>352836</td>\n",
       "      <td>209584584</td>\n",
       "      <td>18.841444</td>\n",
       "      <td>18.841444</td>\n",
       "      <td>6.529931</td>\n",
       "      <td>3.752793</td>\n",
       "      <td>18.138357</td>\n",
       "    </tr>\n",
       "    <tr>\n",
       "      <th>2</th>\n",
       "      <td>Celebration</td>\n",
       "      <td>Carnival</td>\n",
       "      <td>1987</td>\n",
       "      <td>47262</td>\n",
       "      <td>1486</td>\n",
       "      <td>722</td>\n",
       "      <td>743</td>\n",
       "      <td>670</td>\n",
       "      <td>31.80</td>\n",
       "      <td>453</td>\n",
       "      <td>...</td>\n",
       "      <td>10.763462</td>\n",
       "      <td>38.548671</td>\n",
       "      <td>2208196</td>\n",
       "      <td>521284</td>\n",
       "      <td>376367048</td>\n",
       "      <td>27.258026</td>\n",
       "      <td>25.884358</td>\n",
       "      <td>5.639149</td>\n",
       "      <td>3.459466</td>\n",
       "      <td>21.283797</td>\n",
       "    </tr>\n",
       "    <tr>\n",
       "      <th>3</th>\n",
       "      <td>Conquest</td>\n",
       "      <td>Carnival</td>\n",
       "      <td>2002</td>\n",
       "      <td>110000</td>\n",
       "      <td>2974</td>\n",
       "      <td>953</td>\n",
       "      <td>1488</td>\n",
       "      <td>1910</td>\n",
       "      <td>36.99</td>\n",
       "      <td>892</td>\n",
       "      <td>...</td>\n",
       "      <td>11.608236</td>\n",
       "      <td>54.534393</td>\n",
       "      <td>8844676</td>\n",
       "      <td>908209</td>\n",
       "      <td>865523177</td>\n",
       "      <td>38.574603</td>\n",
       "      <td>43.703547</td>\n",
       "      <td>6.081940</td>\n",
       "      <td>3.610648</td>\n",
       "      <td>29.866369</td>\n",
       "    </tr>\n",
       "    <tr>\n",
       "      <th>4</th>\n",
       "      <td>Destiny</td>\n",
       "      <td>Carnival</td>\n",
       "      <td>1996</td>\n",
       "      <td>101353</td>\n",
       "      <td>2642</td>\n",
       "      <td>892</td>\n",
       "      <td>1321</td>\n",
       "      <td>1000</td>\n",
       "      <td>38.36</td>\n",
       "      <td>740</td>\n",
       "      <td>...</td>\n",
       "      <td>11.526365</td>\n",
       "      <td>51.400389</td>\n",
       "      <td>6980164</td>\n",
       "      <td>795664</td>\n",
       "      <td>709732288</td>\n",
       "      <td>36.345564</td>\n",
       "      <td>31.622777</td>\n",
       "      <td>6.193545</td>\n",
       "      <td>3.647015</td>\n",
       "      <td>27.202941</td>\n",
       "    </tr>\n",
       "  </tbody>\n",
       "</table>\n",
       "<p>5 rows × 23 columns</p>\n",
       "</div>"
      ],
      "text/plain": [
       "          Ship      Line  YearBlt  Tonnage  passngrs  Length  Cabins  Crew  \\\n",
       "0      Journey   Azamara     2007    30277       694     594     355   355   \n",
       "1        Quest   Azamara     2007    30277       694     594     355   355   \n",
       "2  Celebration  Carnival     1987    47262      1486     722     743   670   \n",
       "3     Conquest  Carnival     2002   110000      2974     953    1488  1910   \n",
       "4      Destiny  Carnival     1996   101353      2642     892    1321  1000   \n",
       "\n",
       "   PassSpcR  outcab  ...  TonnageLOG  passngrsSQRT  passngrsSQ  LengthSQ  \\\n",
       "0     42.64     329  ...   10.318144     26.343880      481636    352836   \n",
       "1     42.64     329  ...   10.318144     26.343880      481636    352836   \n",
       "2     31.80     453  ...   10.763462     38.548671     2208196    521284   \n",
       "3     36.99     892  ...   11.608236     54.534393     8844676    908209   \n",
       "4     38.36     740  ...   11.526365     51.400389     6980164    795664   \n",
       "\n",
       "   LengthCUBE  CabinsSQRT   CrewSQRT  PassSpcRSQRT  PassSpcRLOG  outcabSQRT  \n",
       "0   209584584   18.841444  18.841444      6.529931     3.752793   18.138357  \n",
       "1   209584584   18.841444  18.841444      6.529931     3.752793   18.138357  \n",
       "2   376367048   27.258026  25.884358      5.639149     3.459466   21.283797  \n",
       "3   865523177   38.574603  43.703547      6.081940     3.610648   29.866369  \n",
       "4   709732288   36.345564  31.622777      6.193545     3.647015   27.202941  \n",
       "\n",
       "[5 rows x 23 columns]"
      ]
     },
     "execution_count": 35,
     "metadata": {},
     "output_type": "execute_result"
    }
   ],
   "source": [
    "cruiseShip['outcabSQRT'] = np.sqrt(cruiseShip['outcab'])\n",
    "cruiseShip.head()"
   ]
  },
  {
   "cell_type": "code",
   "execution_count": 36,
   "id": "8da9a827",
   "metadata": {},
   "outputs": [
    {
     "data": {
      "text/plain": [
       "<AxesSubplot:>"
      ]
     },
     "execution_count": 36,
     "metadata": {},
     "output_type": "execute_result"
    },
    {
     "data": {
      "image/png": "[encoded data removed]",
      "text/plain": [
       "<Figure size 432x288 with 1 Axes>"
      ]
     },
     "metadata": {
      "needs_background": "light"
     },
     "output_type": "display_data"
    }
   ],
   "source": [
    "cruiseShip.outcabSQRT.hist()"
   ]
  },
  {
   "cell_type": "markdown",
   "id": "cf0ed00b",
   "metadata": {},
   "source": [
    "#### Better!"
   ]
  },
  {
   "cell_type": "code",
   "execution_count": null,
   "id": "eb731e67",
   "metadata": {},
   "outputs": [],
   "source": []
  }
 ],
 "metadata": {
  "kernelspec": {
   "display_name": "Python 3 (ipykernel)",
   "language": "python",
   "name": "python3"
  },
  "language_info": {
   "codemirror_mode": {
    "name": "ipython",
    "version": 3
   },
   "file_extension": ".py",
   "mimetype": "text/x-python",
   "name": "python",
   "nbconvert_exporter": "python",
   "pygments_lexer": "ipython3",
   "version": "3.9.12"
  }
 },
 "nbformat": 4,
 "nbformat_minor": 5
}
