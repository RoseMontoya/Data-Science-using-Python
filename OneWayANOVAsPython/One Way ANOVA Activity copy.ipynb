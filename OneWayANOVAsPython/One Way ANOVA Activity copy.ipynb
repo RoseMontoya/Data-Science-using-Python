{
 "cells": [
  {
   "cell_type": "markdown",
   "id": "28ef6138",
   "metadata": {},
   "source": [
    "# One Way ANOVA Activity\n",
    "## Load in Data and Libraries"
   ]
  },
  {
   "cell_type": "code",
   "execution_count": 2,
   "id": "b18cfbc1",
   "metadata": {},
   "outputs": [],
   "source": [
    "import pandas as pd\n",
    "import numpy as np\n",
    "import scipy\n",
    "from scipy import stats\n",
    "from statsmodels.stats.multicomp import pairwise_tukeyhsd\n",
    "from statsmodels.stats.multicomp import MultiComparison"
   ]
  },
  {
   "cell_type": "code",
   "execution_count": 3,
   "id": "2e2cc1f1",
   "metadata": {},
   "outputs": [
    {
     "data": {
      "text/html": [
       "<div>\n",
       "<style scoped>\n",
       "    .dataframe tbody tr th:only-of-type {\n",
       "        vertical-align: middle;\n",
       "    }\n",
       "\n",
       "    .dataframe tbody tr th {\n",
       "        vertical-align: top;\n",
       "    }\n",
       "\n",
       "    .dataframe thead th {\n",
       "        text-align: right;\n",
       "    }\n",
       "</style>\n",
       "<table border=\"1\" class=\"dataframe\">\n",
       "  <thead>\n",
       "    <tr style=\"text-align: right;\">\n",
       "      <th></th>\n",
       "      <th>Rank</th>\n",
       "      <th>Gr2de</th>\n",
       "      <th>Channel name</th>\n",
       "      <th>Video Uploads</th>\n",
       "      <th>Subscribers</th>\n",
       "      <th>Video views</th>\n",
       "    </tr>\n",
       "  </thead>\n",
       "  <tbody>\n",
       "    <tr>\n",
       "      <th>0</th>\n",
       "      <td>1st</td>\n",
       "      <td>0</td>\n",
       "      <td>Zee TV</td>\n",
       "      <td>82757</td>\n",
       "      <td>18752951</td>\n",
       "      <td>20869786591</td>\n",
       "    </tr>\n",
       "    <tr>\n",
       "      <th>1</th>\n",
       "      <td>2nd</td>\n",
       "      <td>0</td>\n",
       "      <td>T-Series</td>\n",
       "      <td>12661</td>\n",
       "      <td>61196302</td>\n",
       "      <td>47548839843</td>\n",
       "    </tr>\n",
       "    <tr>\n",
       "      <th>2</th>\n",
       "      <td>3rd</td>\n",
       "      <td>0</td>\n",
       "      <td>Cocomelon - Nursery Rhymes</td>\n",
       "      <td>373</td>\n",
       "      <td>19238251</td>\n",
       "      <td>9793305082</td>\n",
       "    </tr>\n",
       "    <tr>\n",
       "      <th>3</th>\n",
       "      <td>4th</td>\n",
       "      <td>0</td>\n",
       "      <td>SET India</td>\n",
       "      <td>27323</td>\n",
       "      <td>31180559</td>\n",
       "      <td>22675948293</td>\n",
       "    </tr>\n",
       "    <tr>\n",
       "      <th>4</th>\n",
       "      <td>5th</td>\n",
       "      <td>0</td>\n",
       "      <td>WWE</td>\n",
       "      <td>36756</td>\n",
       "      <td>32852346</td>\n",
       "      <td>26273668433</td>\n",
       "    </tr>\n",
       "  </tbody>\n",
       "</table>\n",
       "</div>"
      ],
      "text/plain": [
       "  Rank  Gr2de                Channel name Video Uploads Subscribers  \\\n",
       "0  1st      0                      Zee TV         82757    18752951   \n",
       "1  2nd      0                    T-Series         12661    61196302   \n",
       "2  3rd      0  Cocomelon - Nursery Rhymes           373    19238251   \n",
       "3  4th      0                   SET India         27323    31180559   \n",
       "4  5th      0                         WWE         36756    32852346   \n",
       "\n",
       "   Video views  \n",
       "0  20869786591  \n",
       "1  47548839843  \n",
       "2   9793305082  \n",
       "3  22675948293  \n",
       "4  26273668433  "
      ]
     },
     "execution_count": 3,
     "metadata": {},
     "output_type": "execute_result"
    }
   ],
   "source": [
    "YoutubeChannels = pd.read_csv('YoutubeChannels_Python.csv')\n",
    "YoutubeChannels.head()"
   ]
  },
  {
   "cell_type": "markdown",
   "id": "3191c1a1",
   "metadata": {},
   "source": [
    "# Is there a difference in video views based on grade?\n",
    "## Data Wrangling"
   ]
  },
  {
   "cell_type": "code",
   "execution_count": 4,
   "id": "52f815cd",
   "metadata": {},
   "outputs": [
    {
     "data": {
      "text/html": [
       "<div>\n",
       "<style scoped>\n",
       "    .dataframe tbody tr th:only-of-type {\n",
       "        vertical-align: middle;\n",
       "    }\n",
       "\n",
       "    .dataframe tbody tr th {\n",
       "        vertical-align: top;\n",
       "    }\n",
       "\n",
       "    .dataframe thead th {\n",
       "        text-align: right;\n",
       "    }\n",
       "</style>\n",
       "<table border=\"1\" class=\"dataframe\">\n",
       "  <thead>\n",
       "    <tr style=\"text-align: right;\">\n",
       "      <th></th>\n",
       "      <th>Gr2de</th>\n",
       "      <th>Video views</th>\n",
       "    </tr>\n",
       "  </thead>\n",
       "  <tbody>\n",
       "    <tr>\n",
       "      <th>0</th>\n",
       "      <td>0</td>\n",
       "      <td>20869786591</td>\n",
       "    </tr>\n",
       "    <tr>\n",
       "      <th>1</th>\n",
       "      <td>0</td>\n",
       "      <td>47548839843</td>\n",
       "    </tr>\n",
       "    <tr>\n",
       "      <th>2</th>\n",
       "      <td>0</td>\n",
       "      <td>9793305082</td>\n",
       "    </tr>\n",
       "    <tr>\n",
       "      <th>3</th>\n",
       "      <td>0</td>\n",
       "      <td>22675948293</td>\n",
       "    </tr>\n",
       "    <tr>\n",
       "      <th>4</th>\n",
       "      <td>0</td>\n",
       "      <td>26273668433</td>\n",
       "    </tr>\n",
       "  </tbody>\n",
       "</table>\n",
       "</div>"
      ],
      "text/plain": [
       "   Gr2de  Video views\n",
       "0      0  20869786591\n",
       "1      0  47548839843\n",
       "2      0   9793305082\n",
       "3      0  22675948293\n",
       "4      0  26273668433"
      ]
     },
     "execution_count": 4,
     "metadata": {},
     "output_type": "execute_result"
    }
   ],
   "source": [
    "YoutubeChannels1 = YoutubeChannels[['Gr2de', 'Video views']]\n",
    "YoutubeChannels1.head()"
   ]
  },
  {
   "cell_type": "code",
   "execution_count": 5,
   "id": "34d6e021",
   "metadata": {},
   "outputs": [
    {
     "data": {
      "text/plain": [
       "array([0, 1, 2, 3])"
      ]
     },
     "execution_count": 5,
     "metadata": {},
     "output_type": "execute_result"
    }
   ],
   "source": [
    "YoutubeChannels1['Gr2de'].unique()"
   ]
  },
  {
   "cell_type": "markdown",
   "id": "c3f4d897",
   "metadata": {},
   "source": [
    "## Testing Assumptions\n",
    "### Normality"
   ]
  },
  {
   "cell_type": "code",
   "execution_count": 6,
   "id": "8eae79e9",
   "metadata": {},
   "outputs": [
    {
     "data": {
      "text/plain": [
       "<AxesSubplot:>"
      ]
     },
     "execution_count": 6,
     "metadata": {},
     "output_type": "execute_result"
    },
    {
     "data": {
      "image/png": "[encoded data removed]",
      "text/plain": [
       "<Figure size 432x288 with 1 Axes>"
      ]
     },
     "metadata": {
      "needs_background": "light"
     },
     "output_type": "display_data"
    }
   ],
   "source": [
    "YoutubeChannels1['Video views'].hist()"
   ]
  },
  {
   "cell_type": "markdown",
   "id": "2838740c",
   "metadata": {},
   "source": [
    "#### Looks like our data is positively skewed. \n",
    "#### Taking the Square Root"
   ]
  },
  {
   "cell_type": "code",
   "execution_count": 7,
   "id": "2c67ed80",
   "metadata": {},
   "outputs": [
    {
     "name": "stderr",
     "output_type": "stream",
     "text": [
      "/var/folders/gh/vcsn_slj14q0_wh1ppsy70w00000gn/T/ipykernel_53025/4191562277.py:1: SettingWithCopyWarning: \n",
      "A value is trying to be set on a copy of a slice from a DataFrame.\n",
      "Try using .loc[row_indexer,col_indexer] = value instead\n",
      "\n",
      "See the caveats in the documentation: https://pandas.pydata.org/pandas-docs/stable/user_guide/indexing.html#returning-a-view-versus-a-copy\n",
      "  YoutubeChannels1['Video viewsSQRT'] = np.sqrt(YoutubeChannels1['Video views'])\n"
     ]
    },
    {
     "data": {
      "text/html": [
       "<div>\n",
       "<style scoped>\n",
       "    .dataframe tbody tr th:only-of-type {\n",
       "        vertical-align: middle;\n",
       "    }\n",
       "\n",
       "    .dataframe tbody tr th {\n",
       "        vertical-align: top;\n",
       "    }\n",
       "\n",
       "    .dataframe thead th {\n",
       "        text-align: right;\n",
       "    }\n",
       "</style>\n",
       "<table border=\"1\" class=\"dataframe\">\n",
       "  <thead>\n",
       "    <tr style=\"text-align: right;\">\n",
       "      <th></th>\n",
       "      <th>Gr2de</th>\n",
       "      <th>Video views</th>\n",
       "      <th>Video viewsSQRT</th>\n",
       "    </tr>\n",
       "  </thead>\n",
       "  <tbody>\n",
       "    <tr>\n",
       "      <th>0</th>\n",
       "      <td>0</td>\n",
       "      <td>20869786591</td>\n",
       "      <td>144463.789896</td>\n",
       "    </tr>\n",
       "    <tr>\n",
       "      <th>1</th>\n",
       "      <td>0</td>\n",
       "      <td>47548839843</td>\n",
       "      <td>218056.964674</td>\n",
       "    </tr>\n",
       "    <tr>\n",
       "      <th>2</th>\n",
       "      <td>0</td>\n",
       "      <td>9793305082</td>\n",
       "      <td>98961.129147</td>\n",
       "    </tr>\n",
       "    <tr>\n",
       "      <th>3</th>\n",
       "      <td>0</td>\n",
       "      <td>22675948293</td>\n",
       "      <td>150585.352186</td>\n",
       "    </tr>\n",
       "    <tr>\n",
       "      <th>4</th>\n",
       "      <td>0</td>\n",
       "      <td>26273668433</td>\n",
       "      <td>162091.543373</td>\n",
       "    </tr>\n",
       "  </tbody>\n",
       "</table>\n",
       "</div>"
      ],
      "text/plain": [
       "   Gr2de  Video views  Video viewsSQRT\n",
       "0      0  20869786591    144463.789896\n",
       "1      0  47548839843    218056.964674\n",
       "2      0   9793305082     98961.129147\n",
       "3      0  22675948293    150585.352186\n",
       "4      0  26273668433    162091.543373"
      ]
     },
     "execution_count": 7,
     "metadata": {},
     "output_type": "execute_result"
    }
   ],
   "source": [
    "YoutubeChannels1['Video viewsSQRT'] = np.sqrt(YoutubeChannels1['Video views'])\n",
    "YoutubeChannels1.head()"
   ]
  },
  {
   "cell_type": "code",
   "execution_count": 8,
   "id": "cc84667d",
   "metadata": {},
   "outputs": [
    {
     "data": {
      "text/plain": [
       "<AxesSubplot:>"
      ]
     },
     "execution_count": 8,
     "metadata": {},
     "output_type": "execute_result"
    },
    {
     "data": {
      "image/png": "[encoded data removed]",
      "text/plain": [
       "<Figure size 432x288 with 1 Axes>"
      ]
     },
     "metadata": {
      "needs_background": "light"
     },
     "output_type": "display_data"
    }
   ],
   "source": [
    "YoutubeChannels1['Video viewsSQRT'].hist()"
   ]
  },
  {
   "cell_type": "markdown",
   "id": "2d49822d",
   "metadata": {},
   "source": [
    "\n",
    "### Homogeneity of Variance"
   ]
  },
  {
   "cell_type": "code",
   "execution_count": 15,
   "id": "18f11da7",
   "metadata": {},
   "outputs": [
    {
     "data": {
      "text/plain": [
       "BartlettResult(statistic=98198.68027836575, pvalue=0.0)"
      ]
     },
     "execution_count": 15,
     "metadata": {},
     "output_type": "execute_result"
    }
   ],
   "source": [
    "scipy.stats.bartlett(YoutubeChannels1['Video viewsSQRT'], YoutubeChannels1['Gr2de'])"
   ]
  },
  {
   "cell_type": "markdown",
   "id": "5175f512",
   "metadata": {},
   "source": [
    "#### Our p-value is significant, which means there is a difference of variance and we do not meet this assumption. We will continue on anyway. \n",
    "### Sample Size"
   ]
  },
  {
   "cell_type": "code",
   "execution_count": 16,
   "id": "178cf5c9",
   "metadata": {},
   "outputs": [
    {
     "data": {
      "text/plain": [
       "<bound method DataFrame.info of       Gr2de  Video views  Video viewsSQRT  Video viewsLOG\n",
       "0         0  20869786591    144463.789896       23.761568\n",
       "1         0  47548839843    218056.964674       24.585023\n",
       "2         0   9793305082     98961.129147       23.004965\n",
       "3         0  22675948293    150585.352186       23.844571\n",
       "4         0  26273668433    162091.543373       23.991833\n",
       "...     ...          ...              ...             ...\n",
       "4995      3    441202795     21004.827897       19.905015\n",
       "4996      3    377331722     19425.028237       19.748635\n",
       "4997      3    311758426     17656.682191       19.557739\n",
       "4998      3     14563764      3816.249992       16.494047\n",
       "4999      3     73312511      8562.272537       18.110242\n",
       "\n",
       "[5000 rows x 4 columns]>"
      ]
     },
     "execution_count": 16,
     "metadata": {},
     "output_type": "execute_result"
    }
   ],
   "source": [
    "YoutubeChannels1.info"
   ]
  },
  {
   "cell_type": "markdown",
   "id": "b1e0c766",
   "metadata": {},
   "source": [
    "#### We have 5000 rows so we meet this assumption.\n",
    "### Independence. There is no test for this so it is assumed.\n",
    "## Running ANOVA"
   ]
  },
  {
   "cell_type": "code",
   "execution_count": 20,
   "id": "18638ff0",
   "metadata": {},
   "outputs": [
    {
     "data": {
      "text/plain": [
       "F_onewayResult(statistic=565.0043948527235, pvalue=3.4159538e-316)"
      ]
     },
     "execution_count": 20,
     "metadata": {},
     "output_type": "execute_result"
    }
   ],
   "source": [
    "stats.f_oneway(YoutubeChannels1['Video viewsSQRT'][YoutubeChannels1['Gr2de']==0],\n",
    "                    YoutubeChannels1['Video viewsSQRT'][YoutubeChannels1['Gr2de']==1],\n",
    "                    YoutubeChannels1['Video viewsSQRT'][YoutubeChannels1['Gr2de']==2],\n",
    "                    YoutubeChannels1['Video viewsSQRT'][YoutubeChannels1['Gr2de']==3])"
   ]
  },
  {
   "cell_type": "markdown",
   "id": "5866a07e",
   "metadata": {},
   "source": [
    "#### Our p-value is significant, therefore there is a significant difference between video views based on grade. However, because assumptions weren't met, this should be taken with caution.\n",
    "## Looking at post Hocs"
   ]
  },
  {
   "cell_type": "code",
   "execution_count": 21,
   "id": "1ce88b8e",
   "metadata": {},
   "outputs": [
    {
     "name": "stdout",
     "output_type": "stream",
     "text": [
      "       Multiple Comparison of Means - Tukey HSD, FWER=0.05       \n",
      "=================================================================\n",
      "group1 group2   meandiff   p-adj    lower        upper     reject\n",
      "-----------------------------------------------------------------\n",
      "     0      1  -68679.9997  -0.0   -83762.851  -53597.1484   True\n",
      "     0      2 -104953.2517  -0.0 -118510.6738  -91395.8297   True\n",
      "     0      3 -119688.2398  -0.0 -133234.6321 -106141.8475   True\n",
      "     1      2   -36273.252  -0.0  -43020.3993  -29526.1048   True\n",
      "     1      3  -51008.2401  -0.0  -57733.1972   -44283.283   True\n",
      "     2      3   -14734.988  -0.0  -15974.4784  -13495.4977   True\n",
      "-----------------------------------------------------------------\n"
     ]
    }
   ],
   "source": [
    "postHoc = MultiComparison(YoutubeChannels1['Video viewsSQRT'],YoutubeChannels1['Gr2de'])\n",
    "postHocResults = postHoc.tukeyhsd()\n",
    "print(postHocResults)"
   ]
  },
  {
   "cell_type": "markdown",
   "id": "43e5aa08",
   "metadata": {},
   "source": [
    "#### All of the differences between every option is significant. The biggest difference is between 0 and 3. While I didn't recode the grade variable, I can guess that 0 is probably a++. 3 is a little bit harder to guess, since with the other data there were 5 option and in this data set there were only 4. I would guess that 3 is the lowest grade in the data set. 0 to 3 has the biggest meandiff, showing that the higher the grade had more views, and the lower grades has less view. Resulting in a larger difference. "
   ]
  },
  {
   "cell_type": "code",
   "execution_count": null,
   "id": "17b9c9f3",
   "metadata": {},
   "outputs": [],
   "source": []
  }
 ],
 "metadata": {
  "kernelspec": {
   "display_name": "Python 3 (ipykernel)",
   "language": "python",
   "name": "python3"
  },
  "language_info": {
   "codemirror_mode": {
    "name": "ipython",
    "version": 3
   },
   "file_extension": ".py",
   "mimetype": "text/x-python",
   "name": "python",
   "nbconvert_exporter": "python",
   "pygments_lexer": "ipython3",
   "version": "3.9.12"
  }
 },
 "nbformat": 4,
 "nbformat_minor": 5
}
